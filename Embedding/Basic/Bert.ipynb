{
  "nbformat": 4,
  "nbformat_minor": 0,
  "metadata": {
    "kernelspec": {
      "display_name": "Python 3",
      "language": "python",
      "name": "python3"
    },
    "language_info": {
      "codemirror_mode": {
        "name": "ipython",
        "version": 3
      },
      "file_extension": ".py",
      "mimetype": "text/x-python",
      "name": "python",
      "nbconvert_exporter": "python",
      "pygments_lexer": "ipython3",
      "version": "3.7.2"
    },
    "colab": {
      "name": "Bert.ipynb",
      "provenance": [],
      "include_colab_link": true
    },
    "accelerator": "GPU"
  },
  "cells": [
    {
      "cell_type": "markdown",
      "metadata": {
        "id": "view-in-github",
        "colab_type": "text"
      },
      "source": [
        "<a href=\"https://colab.research.google.com/github/agemagician/Prot-Transformers/blob/master/Embedding/Basic/Bert.ipynb\" target=\"_parent\"><img src=\"https://colab.research.google.com/assets/colab-badge.svg\" alt=\"Open In Colab\"/></a>"
      ]
    },
    {
      "cell_type": "markdown",
      "metadata": {
        "id": "fXFGYhQo-h2F",
        "colab_type": "text"
      },
      "source": [
        "<h3> Extracting protein sequences' features using ProtBert pretrained-model <h3>"
      ]
    },
    {
      "cell_type": "markdown",
      "metadata": {
        "id": "eRKqEJ5L-h2H",
        "colab_type": "text"
      },
      "source": [
        "<b>1. Load necessry libraries including huggingface transformers<b>"
      ]
    },
    {
      "cell_type": "code",
      "metadata": {
        "id": "GXAKFATm-mbs",
        "colab_type": "code",
        "colab": {
          "base_uri": "https://localhost:8080/",
          "height": 102
        },
        "outputId": "5a46f894-06bc-4e29-e7bd-4d9d09d40b5f"
      },
      "source": [
        "!pip install -q transformers\n",
        "!pip install -q gdown"
      ],
      "execution_count": 1,
      "outputs": [
        {
          "output_type": "stream",
          "text": [
            "\u001b[K     |████████████████████████████████| 675kB 9.0MB/s \n",
            "\u001b[K     |████████████████████████████████| 890kB 24.0MB/s \n",
            "\u001b[K     |████████████████████████████████| 1.1MB 51.1MB/s \n",
            "\u001b[K     |████████████████████████████████| 3.8MB 56.2MB/s \n",
            "\u001b[?25h  Building wheel for sacremoses (setup.py) ... \u001b[?25l\u001b[?25hdone\n"
          ],
          "name": "stdout"
        }
      ]
    },
    {
      "cell_type": "code",
      "metadata": {
        "id": "jd3YQUd1-h2I",
        "colab_type": "code",
        "colab": {}
      },
      "source": [
        "import torch\n",
        "from transformers import BertModel, BertTokenizer, pipeline\n",
        "import re\n",
        "import numpy as np\n",
        "import os\n",
        "import gdown"
      ],
      "execution_count": 2,
      "outputs": []
    },
    {
      "cell_type": "markdown",
      "metadata": {
        "id": "-AL0kYyl-h2O",
        "colab_type": "text"
      },
      "source": [
        "<b>2. Set the url location of ProtBert and the vocabulary file<b>"
      ]
    },
    {
      "cell_type": "code",
      "metadata": {
        "id": "lfxkUrqP-h2Q",
        "colab_type": "code",
        "colab": {}
      },
      "source": [
        "modelUrl = 'https://drive.google.com/uc?export=download&confirm=BTQ_&id=1mLuVhMuGTSSfVkK1rrmBSTC5yiCpGy--'\n",
        "configUrl = 'https://drive.google.com/uc?export=download&confirm=BTQ_&id=1hg30JtXz6Okl0esJnMC2J_9TNbx5gJpl'\n",
        "vocabUrl = 'https://drive.google.com/uc?export=download&confirm=BTQ_&id=15eFspbhoF5uUZ6xKKTAIGOunXYDeFruL'"
      ],
      "execution_count": 3,
      "outputs": []
    },
    {
      "cell_type": "markdown",
      "metadata": {
        "id": "HibbYMkp-2To",
        "colab_type": "text"
      },
      "source": [
        "<b>3. Download ProtBert models and vocabulary files</b>"
      ]
    },
    {
      "cell_type": "code",
      "metadata": {
        "id": "GrdvZUDb-5xh",
        "colab_type": "code",
        "colab": {}
      },
      "source": [
        "downloadFolderPath = 'models/ProtBert/'"
      ],
      "execution_count": 4,
      "outputs": []
    },
    {
      "cell_type": "code",
      "metadata": {
        "id": "waGPmi34-52I",
        "colab_type": "code",
        "colab": {}
      },
      "source": [
        "modelFolderPath = downloadFolderPath\n",
        "\n",
        "modelFilePath = os.path.join(modelFolderPath, 'pytorch_model.bin')\n",
        "\n",
        "configFilePath = os.path.join(modelFolderPath, 'config.json')\n",
        "\n",
        "vocabFilePath = os.path.join(modelFolderPath, 'vocab.txt')"
      ],
      "execution_count": 5,
      "outputs": []
    },
    {
      "cell_type": "code",
      "metadata": {
        "id": "Lzoiekzp-563",
        "colab_type": "code",
        "colab": {}
      },
      "source": [
        "if not os.path.exists(modelFolderPath):\n",
        "    os.makedirs(modelFolderPath)"
      ],
      "execution_count": 6,
      "outputs": []
    },
    {
      "cell_type": "code",
      "metadata": {
        "id": "Z6W20Nx5-5_7",
        "colab_type": "code",
        "colab": {}
      },
      "source": [
        "def download_file(url,filename):\n",
        "  while not os.path.exists(filename):\n",
        "    gdown.download(url,filename, quiet=False)"
      ],
      "execution_count": 7,
      "outputs": []
    },
    {
      "cell_type": "code",
      "metadata": {
        "id": "g8YxeySB-_1G",
        "colab_type": "code",
        "colab": {
          "base_uri": "https://localhost:8080/",
          "height": 221
        },
        "outputId": "f9441129-ea00-4361-a269-410a9cca43e2"
      },
      "source": [
        "if not os.path.exists(modelFilePath):\n",
        "    download_file(modelUrl, modelFilePath)\n",
        "\n",
        "if not os.path.exists(configFilePath):\n",
        "    download_file(configUrl, configFilePath)\n",
        "\n",
        "if not os.path.exists(vocabFilePath):\n",
        "    download_file(vocabUrl, vocabFilePath)"
      ],
      "execution_count": 8,
      "outputs": [
        {
          "output_type": "stream",
          "text": [
            "Downloading...\n",
            "From: https://drive.google.com/uc?export=download&confirm=BTQ_&id=1mLuVhMuGTSSfVkK1rrmBSTC5yiCpGy--\n",
            "To: /content/models/ProtBert/pytorch_model.bin\n",
            "1.68GB [00:08, 191MB/s] \n",
            "Downloading...\n",
            "From: https://drive.google.com/uc?export=download&confirm=BTQ_&id=1hg30JtXz6Okl0esJnMC2J_9TNbx5gJpl\n",
            "To: /content/models/ProtBert/config.json\n",
            "100%|██████████| 313/313 [00:00<00:00, 107kB/s]\n",
            "Downloading...\n",
            "From: https://drive.google.com/uc?export=download&confirm=BTQ_&id=15eFspbhoF5uUZ6xKKTAIGOunXYDeFruL\n",
            "To: /content/models/ProtBert/vocab.txt\n",
            "100%|██████████| 81.0/81.0 [00:00<00:00, 110kB/s]\n"
          ],
          "name": "stderr"
        }
      ]
    },
    {
      "cell_type": "markdown",
      "metadata": {
        "id": "hAKCMu_2-h2V",
        "colab_type": "text"
      },
      "source": [
        "<b>4. Load the vocabulary and ProtBert Model<b>"
      ]
    },
    {
      "cell_type": "code",
      "metadata": {
        "id": "HS8i5sOJ-h2W",
        "colab_type": "code",
        "colab": {}
      },
      "source": [
        "vocab = BertTokenizer(vocabFilePath, do_lower_case=False )"
      ],
      "execution_count": 9,
      "outputs": []
    },
    {
      "cell_type": "code",
      "metadata": {
        "id": "ERtkR05t-h2c",
        "colab_type": "code",
        "colab": {}
      },
      "source": [
        "model = BertModel.from_pretrained(modelFolderPath)"
      ],
      "execution_count": 10,
      "outputs": []
    },
    {
      "cell_type": "markdown",
      "metadata": {
        "id": "XDnhEiyI-h2g",
        "colab_type": "text"
      },
      "source": [
        "<b>5. Load the model into the GPU if avilabile<b>"
      ]
    },
    {
      "cell_type": "code",
      "metadata": {
        "id": "KNweYMPQ-h2h",
        "colab_type": "code",
        "colab": {}
      },
      "source": [
        "model = pipeline('feature-extraction', model=model, tokenizer=vocab,device=0)"
      ],
      "execution_count": 11,
      "outputs": []
    },
    {
      "cell_type": "markdown",
      "metadata": {
        "id": "AWbZG3wu-h2l",
        "colab_type": "text"
      },
      "source": [
        "<b>6. Create or load sequences and map rarely occured amino acids (U,Z,O,B) to (X)<b>"
      ]
    },
    {
      "cell_type": "code",
      "metadata": {
        "id": "2kqLvaxa-h2l",
        "colab_type": "code",
        "colab": {}
      },
      "source": [
        "sequences_Example = [\"A E T C Z A O\",\"S K T Z P\"]"
      ],
      "execution_count": 12,
      "outputs": []
    },
    {
      "cell_type": "code",
      "metadata": {
        "id": "rLxGKOwe-h2r",
        "colab_type": "code",
        "colab": {}
      },
      "source": [
        "sequences_Example = [re.sub(r\"[UZOB]\", \"X\", sequence) for sequence in sequences_Example]"
      ],
      "execution_count": 13,
      "outputs": []
    },
    {
      "cell_type": "markdown",
      "metadata": {
        "id": "jfk9vkyV-h2x",
        "colab_type": "text"
      },
      "source": [
        "<b>7. Extracting sequences' features and covert the output to numpy if needed<b>"
      ]
    },
    {
      "cell_type": "code",
      "metadata": {
        "id": "gZPpLMK2-h2y",
        "colab_type": "code",
        "colab": {}
      },
      "source": [
        "embedding = model(sequences_Example)"
      ],
      "execution_count": 14,
      "outputs": []
    },
    {
      "cell_type": "code",
      "metadata": {
        "id": "eRsQnB8Y-h24",
        "colab_type": "code",
        "colab": {}
      },
      "source": [
        "embedding = np.array(embedding)"
      ],
      "execution_count": 15,
      "outputs": []
    },
    {
      "cell_type": "code",
      "metadata": {
        "id": "FIvh0j8e-h26",
        "colab_type": "code",
        "colab": {
          "base_uri": "https://localhost:8080/",
          "height": 476
        },
        "outputId": "a93d69d1-b4d7-4f0e-9320-253b1e9d4f12"
      },
      "source": [
        "print(embedding)"
      ],
      "execution_count": 16,
      "outputs": [
        {
          "output_type": "stream",
          "text": [
            "[[[ 0.04535879  0.11401558 -0.01174266 ... -0.08750971 -0.11434396\n",
            "    0.02040843]\n",
            "  [ 0.09233951  0.13914399 -0.05241546 ... -0.13947977 -0.0428006\n",
            "    0.07431364]\n",
            "  [ 0.11505969  0.01998261 -0.08627468 ... -0.00946233 -0.1872724\n",
            "    0.13169006]\n",
            "  ...\n",
            "  [ 0.10792391  0.09771117 -0.05832333 ... -0.12765658 -0.06493297\n",
            "    0.12894136]\n",
            "  [ 0.0545795   0.03635893 -0.07821195 ... -0.03016043 -0.06015311\n",
            "    0.08903892]\n",
            "  [ 0.05150128  0.0571134  -0.06932486 ... -0.03937564 -0.06630812\n",
            "    0.09767482]]\n",
            "\n",
            " [[ 0.06268476  0.08731148  0.00279815 ... -0.03485441 -0.037174\n",
            "    0.01748304]\n",
            "  [ 0.0880546   0.10885102  0.06212992 ...  0.0144938  -0.03327068\n",
            "   -0.0362049 ]\n",
            "  [-0.03332657  0.03442192  0.0809955  ...  0.0008738  -0.02733596\n",
            "    0.05783575]\n",
            "  ...\n",
            "  [ 0.00774996  0.03800717 -0.00171148 ... -0.00877388 -0.02430492\n",
            "    0.07620303]\n",
            "  [ 0.02335456  0.03041686 -0.00720565 ...  0.00245539 -0.01678618\n",
            "    0.09118143]\n",
            "  [ 0.03590559  0.02411232 -0.01498629 ...  0.00813052 -0.00361231\n",
            "    0.10301432]]]\n"
          ],
          "name": "stdout"
        }
      ]
    },
    {
      "cell_type": "markdown",
      "metadata": {
        "id": "AuRYxkbO-h29",
        "colab_type": "text"
      },
      "source": [
        "<b>Optional: Remove padding ([PAD]) and special tokens ([CLS],[SEP]) that is added by Bert model<b>"
      ]
    },
    {
      "cell_type": "code",
      "metadata": {
        "id": "HUL5nEBy-h2-",
        "colab_type": "code",
        "colab": {}
      },
      "source": [
        "features = [] \n",
        "\n",
        "for seq_num in range(len(embedding)):\n",
        "    seq_len = len(sequences_Example[seq_num].replace(\" \", \"\"))\n",
        "    start_Idx = 1\n",
        "    end_Idx = seq_len+1\n",
        "    seq_emd = embedding[seq_num][start_Idx:end_Idx]\n",
        "    features.append(seq_emd)"
      ],
      "execution_count": 17,
      "outputs": []
    },
    {
      "cell_type": "code",
      "metadata": {
        "id": "1-sP8qGp-h3B",
        "colab_type": "code",
        "colab": {
          "base_uri": "https://localhost:8080/",
          "height": 391
        },
        "outputId": "1ba81655-2869-4017-9934-1d35c0760b77"
      },
      "source": [
        "print(features)"
      ],
      "execution_count": 18,
      "outputs": [
        {
          "output_type": "stream",
          "text": [
            "[array([[ 0.09233951,  0.13914399, -0.05241546, ..., -0.13947977,\n",
            "        -0.0428006 ,  0.07431364],\n",
            "       [ 0.11505969,  0.01998261, -0.08627468, ..., -0.00946233,\n",
            "        -0.1872724 ,  0.13169006],\n",
            "       [ 0.04012022,  0.05467906, -0.0424584 , ...,  0.02054804,\n",
            "        -0.03819017,  0.1011811 ],\n",
            "       ...,\n",
            "       [ 0.08853199,  0.0228724 , -0.05121122, ..., -0.0673336 ,\n",
            "        -0.03013714,  0.04913732],\n",
            "       [ 0.10792391,  0.09771117, -0.05832333, ..., -0.12765658,\n",
            "        -0.06493297,  0.12894136],\n",
            "       [ 0.0545795 ,  0.03635893, -0.07821195, ..., -0.03016043,\n",
            "        -0.06015311,  0.08903892]]), array([[ 0.0880546 ,  0.10885102,  0.06212992, ...,  0.0144938 ,\n",
            "        -0.03327068, -0.0362049 ],\n",
            "       [-0.03332657,  0.03442192,  0.0809955 , ...,  0.0008738 ,\n",
            "        -0.02733596,  0.05783575],\n",
            "       [ 0.07896441,  0.10343076, -0.01508527, ...,  0.06711898,\n",
            "        -0.01733149,  0.12912118],\n",
            "       [ 0.01805276,  0.07072446, -0.03629201, ..., -0.03547218,\n",
            "         0.0481908 ,  0.0542736 ],\n",
            "       [ 0.05880854,  0.02880943, -0.08032861, ..., -0.00561737,\n",
            "         0.03985041,  0.10529047]])]\n"
          ],
          "name": "stdout"
        }
      ]
    }
  ]
}