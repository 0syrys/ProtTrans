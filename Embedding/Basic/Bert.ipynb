{
 "cells": [
  {
   "cell_type": "markdown",
   "metadata": {},
   "source": [
    "<h3> Extracting protein sequences' features using Bert pretrained-model <h3>"
   ]
  },
  {
   "cell_type": "markdown",
   "metadata": {},
   "source": [
    "<b>1. Load necessry libraries including huggingface transformers<b>"
   ]
  },
  {
   "cell_type": "code",
   "execution_count": 1,
   "metadata": {},
   "outputs": [],
   "source": [
    "import torch\n",
    "from transformers import BertModel, BertTokenizer, pipeline\n",
    "import re\n",
    "import numpy as np"
   ]
  },
  {
   "cell_type": "markdown",
   "metadata": {},
   "source": [
    "<b>2. Set the file location of Bert and the vocabulary file<b>"
   ]
  },
  {
   "cell_type": "code",
   "execution_count": 2,
   "metadata": {},
   "outputs": [],
   "source": [
    "modelPath = '/media/agemagician/Disk2/share_files/summit/uniref100/bert/30_layers/'\n",
    "vocabPath = '/media/agemagician/Disk2/share_files/summit/uniref100/bert/30_layers/vocab.txt'"
   ]
  },
  {
   "cell_type": "markdown",
   "metadata": {},
   "source": [
    "<b>3. Load the vocabulary and Bert Model<b>"
   ]
  },
  {
   "cell_type": "code",
   "execution_count": 3,
   "metadata": {},
   "outputs": [],
   "source": [
    "vocab = BertTokenizer(vocabPath, do_lower_case=False )"
   ]
  },
  {
   "cell_type": "code",
   "execution_count": 4,
   "metadata": {},
   "outputs": [],
   "source": [
    "model = BertModel.from_pretrained(modelPath)"
   ]
  },
  {
   "cell_type": "markdown",
   "metadata": {},
   "source": [
    "<b>4. Load the model into the GPU if avilabile<b>"
   ]
  },
  {
   "cell_type": "code",
   "execution_count": 5,
   "metadata": {},
   "outputs": [],
   "source": [
    "model = pipeline('feature-extraction', model=model, tokenizer=vocab,device=0)"
   ]
  },
  {
   "cell_type": "markdown",
   "metadata": {},
   "source": [
    "<b>5. Create or load sequences and map rarely occured amino acids (U,Z,O,B) to (X)<b>"
   ]
  },
  {
   "cell_type": "code",
   "execution_count": 6,
   "metadata": {},
   "outputs": [],
   "source": [
    "sequences_Example = [\"A E T C Z A O\",\"S K T Z P\"]"
   ]
  },
  {
   "cell_type": "code",
   "execution_count": 7,
   "metadata": {},
   "outputs": [],
   "source": [
    "sequences_Example = [re.sub(r\"[UZOB]\", \"X\", sequence) for sequence in sequences_Example]"
   ]
  },
  {
   "cell_type": "markdown",
   "metadata": {},
   "source": [
    "<b>6. Extracting sequences' features and covert the output to numpy if needed<b>"
   ]
  },
  {
   "cell_type": "code",
   "execution_count": 8,
   "metadata": {},
   "outputs": [],
   "source": [
    "embedding = model(sequences_Example)"
   ]
  },
  {
   "cell_type": "code",
   "execution_count": 9,
   "metadata": {},
   "outputs": [],
   "source": [
    "embedding = np.array(embedding)"
   ]
  },
  {
   "cell_type": "code",
   "execution_count": 10,
   "metadata": {},
   "outputs": [
    {
     "name": "stdout",
     "output_type": "stream",
     "text": [
      "[[[ 0.43194884 -0.29573825  0.1871604  ... -0.60362345 -0.41244522\n",
      "   -0.49437129]\n",
      "  [ 0.34346321 -0.11853541  0.11670393 ...  0.12733918 -0.33663505\n",
      "   -0.4125227 ]\n",
      "  [ 0.37897065 -0.23096789  0.00771705 ... -0.44364253 -0.56715494\n",
      "   -0.63721484]\n",
      "  ...\n",
      "  [ 0.69124544 -0.44460136  0.00450774 ... -0.35402179 -0.46115145\n",
      "   -0.76821858]\n",
      "  [ 0.59799904 -0.23531727  0.09535453 ... -0.58651459 -0.61789775\n",
      "   -0.80608463]\n",
      "  [ 0.51396555 -0.34585887  0.05222348 ... -0.67083639 -0.57604814\n",
      "   -0.96094573]]\n",
      "\n",
      " [[ 0.23120911 -0.60032845  0.39122692 ... -0.5308159  -0.5575766\n",
      "   -0.55705237]\n",
      "  [ 0.36907712 -0.51549917  0.25218609 ... -0.50687969 -0.56165153\n",
      "   -0.61570871]\n",
      "  [ 0.32650244 -0.58309758  0.19571821 ... -0.57145095 -0.25643727\n",
      "   -0.47911468]\n",
      "  ...\n",
      "  [ 0.44227415 -0.48037705  0.06044348 ... -0.2559799  -0.75932127\n",
      "   -0.66039222]\n",
      "  [ 0.28604189 -0.37552303  0.08326415 ... -0.6351983  -0.67632711\n",
      "   -0.62236679]\n",
      "  [ 0.29940799 -0.4034704   0.13874586 ... -0.99162865 -0.60535759\n",
      "   -0.54804069]]]\n"
     ]
    }
   ],
   "source": [
    "print(embedding)"
   ]
  },
  {
   "cell_type": "markdown",
   "metadata": {},
   "source": [
    "<b>Optional: Remove padding ([PAD]) and special tokens ([CLS],[SEP]) that is added by Bert model<b>"
   ]
  },
  {
   "cell_type": "code",
   "execution_count": 11,
   "metadata": {},
   "outputs": [],
   "source": [
    "features = [] \n",
    "\n",
    "for seq_num in range(len(embedding)):\n",
    "    seq_len = len(sequences_Example[seq_num].replace(\" \", \"\"))\n",
    "    start_Idx = 1\n",
    "    end_Idx = seq_len+1\n",
    "    seq_emd = embedding[seq_num][start_Idx:end_Idx]\n",
    "    features.append(seq_emd)"
   ]
  },
  {
   "cell_type": "code",
   "execution_count": 12,
   "metadata": {},
   "outputs": [
    {
     "name": "stdout",
     "output_type": "stream",
     "text": [
      "[array([[ 0.34346321, -0.11853541,  0.11670393, ...,  0.12733918,\n",
      "        -0.33663505, -0.4125227 ],\n",
      "       [ 0.37897065, -0.23096789,  0.00771705, ..., -0.44364253,\n",
      "        -0.56715494, -0.63721484],\n",
      "       [ 0.28404582, -0.56559259,  0.06742072, ..., -0.80574137,\n",
      "        -0.64692605, -0.66759783],\n",
      "       ...,\n",
      "       [ 0.38815227, -0.2500954 ,  0.1672174 , ..., -0.53784174,\n",
      "        -0.37415683, -0.52703422],\n",
      "       [ 0.69124544, -0.44460136,  0.00450774, ..., -0.35402179,\n",
      "        -0.46115145, -0.76821858],\n",
      "       [ 0.59799904, -0.23531727,  0.09535453, ..., -0.58651459,\n",
      "        -0.61789775, -0.80608463]]), array([[ 0.36907712, -0.51549917,  0.25218609, ..., -0.50687969,\n",
      "        -0.56165153, -0.61570871],\n",
      "       [ 0.32650244, -0.58309758,  0.19571821, ..., -0.57145095,\n",
      "        -0.25643727, -0.47911468],\n",
      "       [ 0.0239465 , -0.10554147,  0.27909502, ..., -0.55666339,\n",
      "        -0.34469691, -0.42556283],\n",
      "       [ 0.467527  , -0.51940775,  0.0586937 , ..., -0.28577682,\n",
      "        -0.73576313, -0.79563141],\n",
      "       [ 0.27339718, -0.62076008,  0.2452506 , ..., -0.09948505,\n",
      "        -0.59272408, -0.50416541]])]\n"
     ]
    }
   ],
   "source": [
    "print(features)"
   ]
  }
 ],
 "metadata": {
  "kernelspec": {
   "display_name": "Python 3",
   "language": "python",
   "name": "python3"
  },
  "language_info": {
   "codemirror_mode": {
    "name": "ipython",
    "version": 3
   },
   "file_extension": ".py",
   "mimetype": "text/x-python",
   "name": "python",
   "nbconvert_exporter": "python",
   "pygments_lexer": "ipython3",
   "version": "3.7.2"
  }
 },
 "nbformat": 4,
 "nbformat_minor": 4
}
