{
 "cells": [
  {
   "cell_type": "markdown",
   "metadata": {},
   "source": [
    "<h3> Extracting protein sequences' features using Albert pretrained-model <h3>"
   ]
  },
  {
   "cell_type": "markdown",
   "metadata": {},
   "source": [
    "<b>1. Load necessry libraries including huggingface transformers<b>"
   ]
  },
  {
   "cell_type": "code",
   "execution_count": 1,
   "metadata": {},
   "outputs": [],
   "source": [
    "import torch\n",
    "from transformers import AlbertModel, AlbertTokenizer, pipeline\n",
    "import re\n",
    "import numpy as np"
   ]
  },
  {
   "cell_type": "markdown",
   "metadata": {},
   "source": [
    "<b>2. Set the file location of Albert and the vocabulary file<b>"
   ]
  },
  {
   "cell_type": "code",
   "execution_count": 2,
   "metadata": {},
   "outputs": [],
   "source": [
    "modelPath = '/media/agemagician/Disk2/projects/bio_google_tpu_project/ahmed/models_pytorch/albert'\n",
    "vocabPath = '/media/agemagician/Disk2/projects/bio_google_tpu_project/ahmed/models_pytorch/albert/albert_vocab_model.model'"
   ]
  },
  {
   "cell_type": "markdown",
   "metadata": {},
   "source": [
    "<b>3. Load the vocabulary and Albert Model<b>"
   ]
  },
  {
   "cell_type": "code",
   "execution_count": 3,
   "metadata": {},
   "outputs": [],
   "source": [
    "vocab = AlbertTokenizer(vocabPath, do_lower_case=False )"
   ]
  },
  {
   "cell_type": "code",
   "execution_count": 4,
   "metadata": {},
   "outputs": [],
   "source": [
    "model = AlbertModel.from_pretrained(modelPath)"
   ]
  },
  {
   "cell_type": "markdown",
   "metadata": {},
   "source": [
    "<b>4. Load the model into the GPU if avilabile and switch to inference mode<b>"
   ]
  },
  {
   "cell_type": "code",
   "execution_count": 5,
   "metadata": {},
   "outputs": [],
   "source": [
    "model = pipeline('feature-extraction', model=model, tokenizer=vocab,device=0)"
   ]
  },
  {
   "cell_type": "markdown",
   "metadata": {},
   "source": [
    "<b>5. Create or load sequences and map rarely occured amino acids (U,Z,O,B) to (X)<b>"
   ]
  },
  {
   "cell_type": "code",
   "execution_count": 6,
   "metadata": {},
   "outputs": [],
   "source": [
    "sequences_Example = [\"A E T C Z A O\",\"S K T Z P\"]"
   ]
  },
  {
   "cell_type": "code",
   "execution_count": 7,
   "metadata": {},
   "outputs": [],
   "source": [
    "sequences_Example = [re.sub(r\"[UZOB]\", \"X\", sequence) for sequence in sequences_Example]"
   ]
  },
  {
   "cell_type": "markdown",
   "metadata": {},
   "source": [
    "<b>6. Extracting sequences' features and covert the output to numpy if needed<b>"
   ]
  },
  {
   "cell_type": "code",
   "execution_count": 8,
   "metadata": {},
   "outputs": [],
   "source": [
    "embedding = model(sequences_Example)"
   ]
  },
  {
   "cell_type": "code",
   "execution_count": 9,
   "metadata": {},
   "outputs": [],
   "source": [
    "embedding = np.array(embedding)"
   ]
  },
  {
   "cell_type": "code",
   "execution_count": 10,
   "metadata": {},
   "outputs": [
    {
     "name": "stdout",
     "output_type": "stream",
     "text": [
      "[[[-0.05933219 -0.00771756 -0.07200909 ... -0.05928943 -0.00733217\n",
      "    0.16563264]\n",
      "  [-0.06913061  0.03206101 -0.05003147 ... -0.11457862 -0.03595566\n",
      "    0.08152848]\n",
      "  [-0.33643803 -0.0175079   0.10670088 ... -0.20067249  0.17586312\n",
      "    0.15829395]\n",
      "  ...\n",
      "  [-0.11349688 -0.02344881 -0.02433204 ... -0.19947116 -0.01309577\n",
      "    0.06546066]\n",
      "  [-0.08537761 -0.19285612 -0.01876267 ... -0.08882213  0.07482602\n",
      "   -0.19948626]\n",
      "  [-0.09240548 -0.00960725 -0.078479   ... -0.07284705 -0.0065897\n",
      "    0.14899774]]\n",
      "\n",
      " [[-0.08919544  0.08583463 -0.03715046 ... -0.07874808 -0.00812221\n",
      "    0.18468969]\n",
      "  [-0.12822625  0.10716017 -0.01129915 ... -0.11677967  0.03904792\n",
      "    0.10010004]\n",
      "  [-0.36793104  0.03902491 -0.1156951  ... -0.2210128   0.10926703\n",
      "    0.13324448]\n",
      "  ...\n",
      "  [-0.27154061  0.04539045 -0.05047561 ... -0.23157424  0.05315413\n",
      "    0.14207189]\n",
      "  [-0.18230185  0.10740501 -0.01663142 ... -0.23484249  0.06747213\n",
      "    0.10624727]\n",
      "  [-0.2350475  -0.03588062 -0.05941954 ... -0.24241649  0.05867656\n",
      "    0.08227019]]]\n"
     ]
    }
   ],
   "source": [
    "print(embedding)"
   ]
  },
  {
   "cell_type": "markdown",
   "metadata": {},
   "source": [
    "<b>Optional: Remove padding ([PAD]) and special tokens ([CLS],[SEP]) that is added by Albert model<b>"
   ]
  },
  {
   "cell_type": "code",
   "execution_count": 11,
   "metadata": {},
   "outputs": [],
   "source": [
    "features = [] \n",
    "\n",
    "for seq_num in range(len(embedding)):\n",
    "    seq_len = len(sequences_Example[seq_num].replace(\" \", \"\"))\n",
    "    start_Idx = 1\n",
    "    end_Idx = seq_len+1\n",
    "    seq_emd = embedding[seq_num][start_Idx:end_Idx]\n",
    "    features.append(seq_emd)"
   ]
  },
  {
   "cell_type": "code",
   "execution_count": 12,
   "metadata": {},
   "outputs": [
    {
     "name": "stdout",
     "output_type": "stream",
     "text": [
      "[array([[-0.06913061,  0.03206101, -0.05003147, ..., -0.11457862,\n",
      "        -0.03595566,  0.08152848],\n",
      "       [-0.33643803, -0.0175079 ,  0.10670088, ..., -0.20067249,\n",
      "         0.17586312,  0.15829395],\n",
      "       [-0.17356758,  0.03067275, -0.09666996, ..., -0.1891188 ,\n",
      "         0.10043841,  0.14909169],\n",
      "       ...,\n",
      "       [-0.11075828, -0.19667947, -0.02256219, ..., -0.10256966,\n",
      "         0.08064437, -0.21501049],\n",
      "       [-0.11349688, -0.02344881, -0.02433204, ..., -0.19947116,\n",
      "        -0.01309577,  0.06546066],\n",
      "       [-0.08537761, -0.19285612, -0.01876267, ..., -0.08882213,\n",
      "         0.07482602, -0.19948626]]), array([[-0.12822625,  0.10716017, -0.01129915, ..., -0.11677967,\n",
      "         0.03904792,  0.10010004],\n",
      "       [-0.36793104,  0.03902491, -0.1156951 , ..., -0.2210128 ,\n",
      "         0.10926703,  0.13324448],\n",
      "       [-0.26249766,  0.11969337, -0.05417463, ..., -0.20998038,\n",
      "         0.11928435,  0.21757801],\n",
      "       [-0.03641748, -0.08373182,  0.05713482, ..., -0.12186566,\n",
      "         0.07572395, -0.19450755],\n",
      "       [-0.19677372,  0.07141086, -0.17111003, ..., -0.17914778,\n",
      "         0.06618316, -0.05896271]])]\n"
     ]
    }
   ],
   "source": [
    "print(features)"
   ]
  }
 ],
 "metadata": {
  "kernelspec": {
   "display_name": "Python 3",
   "language": "python",
   "name": "python3"
  },
  "language_info": {
   "codemirror_mode": {
    "name": "ipython",
    "version": 3
   },
   "file_extension": ".py",
   "mimetype": "text/x-python",
   "name": "python",
   "nbconvert_exporter": "python",
   "pygments_lexer": "ipython3",
   "version": "3.7.2"
  }
 },
 "nbformat": 4,
 "nbformat_minor": 4
}
