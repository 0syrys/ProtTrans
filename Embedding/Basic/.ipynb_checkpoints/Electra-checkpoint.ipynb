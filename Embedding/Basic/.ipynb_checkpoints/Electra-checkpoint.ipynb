{
 "cells": [
  {
   "cell_type": "markdown",
   "metadata": {},
   "source": [
    "<h3> Extracting protein sequences' features using Electra pretrained-model <h3>"
   ]
  },
  {
   "cell_type": "markdown",
   "metadata": {},
   "source": [
    "<b>1. Load necessry libraries including huggingface transformers<b>"
   ]
  },
  {
   "cell_type": "code",
   "execution_count": 1,
   "metadata": {},
   "outputs": [],
   "source": [
    "import torch\n",
    "from transformers import ElectraTokenizer, ElectraForPreTraining, ElectraForMaskedLM, ElectraModel, pipeline\n",
    "import re\n",
    "import numpy as np\n",
    "import urllib\n",
    "import os"
   ]
  },
  {
   "cell_type": "markdown",
   "metadata": {},
   "source": [
    "<b>2. Set the url location of Electra and the vocabulary file<b>"
   ]
  },
  {
   "cell_type": "code",
   "execution_count": 2,
   "metadata": {},
   "outputs": [],
   "source": [
    "generatorModelUrl = 'ftp://rostlab.org/bio-transformers/models/electra/pytorch/uniref100/generator/pytorch_model.bin'\n",
    "discriminatorModelUrl = 'ftp://rostlab.org/bio-transformers/models/electra/pytorch/uniref100/discriminator/pytorch_model.bin'\n",
    "\n",
    "generatorConfigUrl = 'ftp://rostlab.org/bio-transformers/models/electra/pytorch/uniref100/generator/config.json'\n",
    "discriminatorConfigUrl = 'ftp://rostlab.org/bio-transformers/models/electra/pytorch/uniref100/discriminator/config.json'\n",
    "\n",
    "vocabUrl = 'ftp://rostlab.org/bio-transformers/models/electra/pytorch/uniref100/discriminator/vocab.txt'"
   ]
  },
  {
   "cell_type": "markdown",
   "metadata": {},
   "source": [
    "<b>3. Download Electra models and vocabulary files<b>"
   ]
  },
  {
   "cell_type": "code",
   "execution_count": 3,
   "metadata": {},
   "outputs": [],
   "source": [
    "downloadFolderPath = 'tmp/electra/'"
   ]
  },
  {
   "cell_type": "code",
   "execution_count": 4,
   "metadata": {},
   "outputs": [],
   "source": [
    "discriminatorFolderPath = os.path.join(downloadFolderPath, 'discriminator')\n",
    "generatorFolderPath = os.path.join(downloadFolderPath, 'generator')\n",
    "\n",
    "discriminatorModelFilePath = os.path.join(discriminatorFolderPath, 'pytorch_model.bin')\n",
    "generatorModelFilePath = os.path.join(generatorFolderPath, 'pytorch_model.bin')\n",
    "\n",
    "discriminatorConfigFilePath = os.path.join(discriminatorFolderPath, 'config.json')\n",
    "generatorConfigFilePath = os.path.join(generatorFolderPath, 'config.json')\n",
    "\n",
    "vocabFilePath = os.path.join(downloadFolderPath, 'vocab.txt')"
   ]
  },
  {
   "cell_type": "code",
   "execution_count": 5,
   "metadata": {},
   "outputs": [],
   "source": [
    "if not os.path.exists(discriminatorFolderPath):\n",
    "    os.makedirs(discriminatorFolderPath)\n",
    "if not os.path.exists(generatorFolderPath):\n",
    "    os.makedirs(generatorFolderPath)"
   ]
  },
  {
   "cell_type": "code",
   "execution_count": 6,
   "metadata": {},
   "outputs": [],
   "source": [
    "if not os.path.exists(generatorModelFilePath):\n",
    "    urllib.request.urlretrieve(generatorModelUrl, generatorModelFilePath)\n",
    "\n",
    "if not os.path.exists(discriminatorModelFilePath):\n",
    "    urllib.request.urlretrieve(discriminatorModelUrl, discriminatorModelFilePath)\n",
    "    \n",
    "if not os.path.exists(generatorConfigFilePath):\n",
    "    urllib.request.urlretrieve(generatorConfigUrl, generatorConfigFilePath)\n",
    "\n",
    "if not os.path.exists(discriminatorConfigFilePath):\n",
    "    urllib.request.urlretrieve(discriminatorConfigUrl, discriminatorConfigFilePath)\n",
    "    \n",
    "if not os.path.exists(vocabFilePath):\n",
    "    urllib.request.urlretrieve(vocabUrl, vocabFilePath)"
   ]
  },
  {
   "cell_type": "markdown",
   "metadata": {},
   "source": [
    "<b>4. Load the vocabulary and Electra discriminator and generator Models<b>"
   ]
  },
  {
   "cell_type": "code",
   "execution_count": 7,
   "metadata": {},
   "outputs": [],
   "source": [
    "vocab = ElectraTokenizer(vocabFilePath, do_lower_case=False )"
   ]
  },
  {
   "cell_type": "code",
   "execution_count": 8,
   "metadata": {},
   "outputs": [],
   "source": [
    "discriminator = ElectraForPreTraining.from_pretrained(discriminatorFolderPath)"
   ]
  },
  {
   "cell_type": "code",
   "execution_count": 9,
   "metadata": {},
   "outputs": [],
   "source": [
    "generator = ElectraForMaskedLM.from_pretrained(generatorFolderPath)"
   ]
  },
  {
   "cell_type": "code",
   "execution_count": 10,
   "metadata": {},
   "outputs": [],
   "source": [
    "electra = ElectraModel.from_pretrained(discriminatorFolderPath)"
   ]
  },
  {
   "cell_type": "markdown",
   "metadata": {},
   "source": [
    "<b>5. Load the models into the GPU if avilabile<b>"
   ]
  },
  {
   "cell_type": "code",
   "execution_count": 11,
   "metadata": {},
   "outputs": [],
   "source": [
    "discriminator = pipeline('feature-extraction', model=discriminator, tokenizer=vocab,device=0)"
   ]
  },
  {
   "cell_type": "code",
   "execution_count": 12,
   "metadata": {},
   "outputs": [],
   "source": [
    "generator = pipeline('feature-extraction', model=generator, tokenizer=vocab,device=0)"
   ]
  },
  {
   "cell_type": "code",
   "execution_count": 13,
   "metadata": {},
   "outputs": [],
   "source": [
    "electra = pipeline('feature-extraction', model=electra, tokenizer=vocab,device=0)"
   ]
  },
  {
   "cell_type": "markdown",
   "metadata": {},
   "source": [
    "<b>6. Create or load sequences and map rarely occured amino acids (U,Z,O,B) to (X)<b>"
   ]
  },
  {
   "cell_type": "code",
   "execution_count": 14,
   "metadata": {},
   "outputs": [],
   "source": [
    "sequences_Example = [\"A E T C Z A O\",\"S K T Z P\"]"
   ]
  },
  {
   "cell_type": "code",
   "execution_count": 15,
   "metadata": {},
   "outputs": [],
   "source": [
    "sequences_Example = [re.sub(r\"[UZOB]\", \"X\", sequence) for sequence in sequences_Example]"
   ]
  },
  {
   "cell_type": "markdown",
   "metadata": {},
   "source": [
    "<b>7. Extracting sequences' features and covert the output to numpy if needed<b>"
   ]
  },
  {
   "cell_type": "code",
   "execution_count": 16,
   "metadata": {},
   "outputs": [],
   "source": [
    "discriminator_embedding = discriminator(sequences_Example)"
   ]
  },
  {
   "cell_type": "code",
   "execution_count": 17,
   "metadata": {},
   "outputs": [],
   "source": [
    "generator_embedding = generator(sequences_Example)"
   ]
  },
  {
   "cell_type": "code",
   "execution_count": 18,
   "metadata": {},
   "outputs": [],
   "source": [
    "electra_embedding = electra(sequences_Example)"
   ]
  },
  {
   "cell_type": "code",
   "execution_count": 19,
   "metadata": {},
   "outputs": [],
   "source": [
    "discriminator_embedding = np.array(discriminator_embedding)"
   ]
  },
  {
   "cell_type": "code",
   "execution_count": 20,
   "metadata": {},
   "outputs": [],
   "source": [
    "generator_embedding = np.array(generator_embedding)"
   ]
  },
  {
   "cell_type": "code",
   "execution_count": 21,
   "metadata": {},
   "outputs": [],
   "source": [
    "electra_embedding = np.array(electra_embedding)"
   ]
  },
  {
   "cell_type": "code",
   "execution_count": 22,
   "metadata": {},
   "outputs": [
    {
     "name": "stdout",
     "output_type": "stream",
     "text": [
      "[[-10.04449844  -1.24294269  -1.15765774  -1.16310215  -1.01715231\n",
      "   -1.45999193  -1.4637301   -1.45527613 -11.15838051]\n",
      " [ -9.85941696  -1.03459871  -0.97092283  -1.22789431  -1.90789998\n",
      "   -1.42081535 -10.74415016  -0.84459877  -0.76843232]]\n"
     ]
    }
   ],
   "source": [
    "print(discriminator_embedding)"
   ]
  },
  {
   "cell_type": "code",
   "execution_count": 23,
   "metadata": {},
   "outputs": [
    {
     "name": "stdout",
     "output_type": "stream",
     "text": [
      "[[[-1.23957548e+01 -1.27599611e+01 -3.73967781e+01 -2.04540806e+01\n",
      "   -1.84475517e+01  4.21902627e-01 -1.41023815e+00  1.16866863e+00\n",
      "    6.08512735e+00  1.03796873e+01 -8.59530258e+00  1.14877164e-01\n",
      "    4.69289351e+00  1.02395687e+01  3.29155445e+00 -5.13703704e-01\n",
      "   -4.13311672e+00 -6.47000027e+00  1.69130266e+00 -6.73368311e+00\n",
      "   -2.65443110e+00 -5.94074917e+00 -3.86547065e+00 -4.43839407e+00\n",
      "    7.09535122e+00  2.54481030e+00 -1.27812929e+01 -1.27303667e+01\n",
      "   -1.22453709e+01 -1.29130554e+01]\n",
      "  [-1.28436508e+01 -1.32133713e+01 -3.39164391e+01 -1.80228424e+01\n",
      "   -1.99971008e+01 -8.79037976e-01  2.14121227e+01  3.00555801e+00\n",
      "    6.51582050e+00  6.91750669e+00 -6.56447983e+00 -2.84737062e+00\n",
      "    4.84939146e+00  7.71299076e+00 -3.31786299e+00  2.78463006e+00\n",
      "    8.20150757e+00 -1.02165117e+01  2.70752668e+00 -2.60612249e+00\n",
      "   -1.54998672e+00 -3.94209599e+00 -5.67770195e+00 -8.36739731e+00\n",
      "   -7.96068847e-01  8.07460976e+00 -1.29483919e+01 -1.21770697e+01\n",
      "   -1.29219017e+01 -1.29151974e+01]\n",
      "  [-1.64518852e+01 -1.65454903e+01 -3.23557968e+01 -2.44598198e+01\n",
      "   -2.06531639e+01  1.01016927e+00  1.04712510e+00  4.86238688e-01\n",
      "    4.94201571e-01  1.84746039e+00  9.01869416e-01  7.32021272e-01\n",
      "    6.88328028e-01  6.87876523e-01  2.18311638e-01  2.51733065e-01\n",
      "    1.71349466e-01 -5.06345510e-01  4.49761331e-01  3.87505531e-01\n",
      "   -5.16608804e-02 -2.63716370e-01 -2.31058896e-01 -2.02979833e-01\n",
      "   -4.47626442e-01 -2.16322088e+00 -1.65033550e+01 -1.65888157e+01\n",
      "   -1.65016518e+01 -1.65399647e+01]\n",
      "  [-1.50611973e+01 -1.50300817e+01 -5.81443367e+01 -2.80720196e+01\n",
      "   -2.58537369e+01 -9.50350642e-01  2.74457145e+00  1.60952270e+00\n",
      "   -6.49882913e-01  5.06247044e-01  6.69781971e+00 -2.95267439e+00\n",
      "    3.48858094e+00  1.68975127e+00 -1.34840345e+00  2.34006710e+01\n",
      "    9.76611614e+00 -6.32839394e+00  9.77742004e+00 -7.32270908e+00\n",
      "   -7.79551744e+00 -2.66154695e+00 -2.93387830e-01 -3.55064940e+00\n",
      "   -5.42143011e+00  6.65975714e+00 -1.52309027e+01 -1.46716022e+01\n",
      "   -1.48442755e+01 -1.54420252e+01]\n",
      "  [-4.93958473e+00 -4.84601879e+00 -3.20939865e+01 -2.62943192e+01\n",
      "   -2.08584690e+01  3.38698864e+00 -9.50318623e+00  5.65627718e+00\n",
      "   -1.56183386e+01 -1.39901361e+01  1.38417702e+01 -1.52644196e+01\n",
      "   -5.12796450e+00 -4.90905094e+00 -2.13960737e-01 -4.25260353e+00\n",
      "   -1.89853573e+00  4.42133951e+00 -7.26453209e+00  1.71410370e+01\n",
      "   -3.17568183e+00 -1.85870898e+00  1.41687384e+01  2.46558590e+01\n",
      "   -1.78142977e+00  1.18934669e+01 -5.38891506e+00 -5.64559555e+00\n",
      "   -5.24885178e+00 -6.63560963e+00]\n",
      "  [-9.59953880e+00 -9.42865372e+00 -4.34309273e+01 -3.05226288e+01\n",
      "   -1.46501541e+01  1.39390147e+00 -1.88638842e+00 -2.33593273e+00\n",
      "   -1.20098486e+01 -7.57413435e+00  2.03404808e+01 -7.51383638e+00\n",
      "    2.06307006e+00 -3.31825823e-01 -4.22245407e+00  2.77794719e+00\n",
      "    2.18071461e+00  1.14094152e+01  1.21742430e+01  7.68302536e+00\n",
      "   -4.76333666e+00  1.80259476e+01  5.71140385e+00  6.13508987e+00\n",
      "   -6.04661131e+00  1.06718712e+01 -1.03325062e+01 -9.84378242e+00\n",
      "   -9.59134102e+00 -1.03003740e+01]\n",
      "  [-1.29778595e+01 -1.32217922e+01 -3.27495537e+01 -1.71088314e+01\n",
      "   -1.92356262e+01 -1.13175309e+00  1.91034431e+01 -2.34234977e+00\n",
      "    4.54130125e+00  6.36991787e+00 -3.76074910e+00 -8.24523211e-01\n",
      "    4.82306480e+00  4.21603203e+00 -2.88708901e+00  3.13465023e+00\n",
      "    6.96841955e+00 -7.48439741e+00  4.97207785e+00 -4.25586879e-01\n",
      "   -7.27728307e-01 -3.03648949e+00 -2.96945214e+00 -6.95996380e+00\n",
      "   -1.00688732e+00  7.05908728e+00 -1.29352436e+01 -1.25057888e+01\n",
      "   -1.31224718e+01 -1.28113804e+01]\n",
      "  [-4.57652092e+00 -4.20835209e+00 -5.22899551e+01 -2.03918667e+01\n",
      "   -2.07999763e+01  5.69702339e+00 -2.67110801e+00  1.79082632e+00\n",
      "   -1.29915304e+01 -1.01639328e+01  1.58602314e+01 -1.33040199e+01\n",
      "   -1.88888609e-01 -8.45529497e-01 -4.51153469e+00  1.03116732e+01\n",
      "    6.32174730e+00  9.04331386e-01  1.19482346e+01  2.79872370e+00\n",
      "   -9.13107681e+00  5.92985153e+00  1.12684441e+01  2.20545311e+01\n",
      "   -3.23027134e+00  2.52665787e+01 -5.55825901e+00 -5.22261238e+00\n",
      "   -4.70094967e+00 -6.70618439e+00]\n",
      "  [-2.45733261e+00 -1.95955372e+00 -1.59391155e+01 -1.85039196e+01\n",
      "   -5.89937210e+00 -6.50298738e+00 -9.43085384e+00 -8.68498325e+00\n",
      "   -1.31727982e+01 -1.02126274e+01 -9.00466740e-01  3.53698874e+00\n",
      "    8.37643337e+00  1.52280533e+00  1.60720456e+00 -1.04391470e+01\n",
      "   -1.45914984e+00  2.23125267e+01 -6.10480881e+00  1.78239803e+01\n",
      "    2.11072140e+01  5.28813982e+00  1.04757633e+01 -2.00675011e+00\n",
      "   -4.98155451e+00  1.15991840e+01 -2.47655487e+00 -3.96279335e-01\n",
      "   -1.95844173e+00 -2.51840115e+00]]\n",
      "\n",
      " [[-1.16956272e+01 -1.19816771e+01 -3.21071815e+01 -2.13521290e+01\n",
      "   -1.54733286e+01 -1.90980184e+00  5.85383511e+00  1.46598518e+00\n",
      "    1.23547316e+01  1.53836784e+01 -9.27896309e+00 -4.27172273e-01\n",
      "    6.30869150e+00  1.41463051e+01 -8.19642901e-01 -5.14875948e-01\n",
      "   -3.69311619e+00 -8.13373470e+00  5.13378382e-01 -4.98852587e+00\n",
      "   -1.66854954e+00 -5.92732954e+00 -6.74382305e+00 -5.84085846e+00\n",
      "    5.44813204e+00  4.36422014e+00 -1.19224520e+01 -1.18120499e+01\n",
      "   -1.14241161e+01 -1.18614407e+01]\n",
      "  [-9.68262100e+00 -9.71635532e+00 -4.13889008e+01 -3.08279610e+01\n",
      "   -1.85206032e+01 -3.81827116e+00 -9.77873862e-01  7.27146745e-01\n",
      "   -1.00444632e+01 -3.82603788e+00  1.97499313e+01 -1.09081583e+01\n",
      "    1.10642219e+00 -1.65712726e+00  6.04734600e-01  2.03259706e+00\n",
      "    4.25734282e+00  1.31386414e+01  5.56366634e+00  3.88425326e+00\n",
      "   -4.01853037e+00  9.17524433e+00  2.01497674e+00  4.18394232e+00\n",
      "   -5.47828817e+00  7.02694750e+00 -1.02421331e+01 -1.01867638e+01\n",
      "   -9.70044327e+00 -1.04596357e+01]\n",
      "  [-1.18016443e+01 -1.18001556e+01 -3.75331879e+01 -1.80220642e+01\n",
      "   -1.53212223e+01  2.57561892e-01 -1.78236258e+00 -2.74115825e+00\n",
      "   -3.87154102e+00 -1.61278510e+00 -3.26264286e+00  1.69695079e+00\n",
      "    1.62194366e+01  1.42366636e+00 -3.01669121e+00 -2.40850377e+00\n",
      "   -1.39857620e-01  7.02021742e+00  2.35100436e+00 -2.39907146e+00\n",
      "    6.66305065e+00  4.65160465e+00 -1.58047092e+00 -3.70894885e+00\n",
      "   -4.17098522e+00  4.93617964e+00 -1.18105946e+01 -1.07474346e+01\n",
      "   -1.17359161e+01 -1.20621042e+01]\n",
      "  [-1.45739059e+01 -1.45233011e+01 -4.83616486e+01 -1.80280132e+01\n",
      "   -2.09274673e+01  6.22180462e-01  1.29911861e+01 -9.52502489e-01\n",
      "    1.73682632e+01  1.37555494e+01 -8.64840412e+00 -8.89230669e-01\n",
      "    6.38697720e+00  1.03172197e+01 -4.35741276e-01  2.02518520e+01\n",
      "    3.51840973e+00 -1.18193436e+01  5.52456808e+00 -8.08370972e+00\n",
      "   -3.94126534e+00 -6.14824057e+00 -5.51175308e+00 -9.13354683e+00\n",
      "   -9.51016545e-01  9.22919464e+00 -1.45646772e+01 -1.40639324e+01\n",
      "   -1.40897350e+01 -1.46457186e+01]\n",
      "  [-6.25180292e+00 -6.14816284e+00 -4.01919556e+01 -5.16825294e+00\n",
      "   -2.16562557e+01  2.46153984e+01 -5.15485239e+00 -3.59246969e+00\n",
      "   -6.00795889e+00 -1.16094284e+01  2.18236542e+00  1.03020275e+00\n",
      "   -7.84199774e-01 -1.41075027e+00 -9.18384743e+00  2.84714007e+00\n",
      "    9.62561846e-01 -4.35117197e+00  6.52144003e+00  9.25907993e+00\n",
      "   -9.04494762e+00  1.78765812e+01  3.97164702e+00  1.56723633e+01\n",
      "    3.89013052e+00  1.82871647e+01 -7.50820780e+00 -7.10392618e+00\n",
      "   -6.45093918e+00 -8.36665821e+00]\n",
      "  [-1.71594696e+01 -1.72645245e+01 -3.83741264e+01 -2.51319523e+01\n",
      "   -2.26372108e+01 -1.73626482e-01  2.65590525e+00  3.80683303e+00\n",
      "   -4.69629288e+00 -7.48550653e-01  4.07230520e+00 -3.46935940e+00\n",
      "    7.91150331e-01  1.55050129e-01  5.07370383e-03  1.41646063e+00\n",
      "    1.17671261e+01 -1.85263598e+00  1.64764559e+00 -1.38724554e+00\n",
      "   -2.74782825e+00 -9.52510357e-01 -1.83196759e+00 -1.68985415e+00\n",
      "   -1.90868664e+00 -4.32861328e-01 -1.71976585e+01 -1.66955242e+01\n",
      "   -1.75605507e+01 -1.75066109e+01]\n",
      "  [-1.44476032e+00 -1.31950665e+00 -1.16343269e+01 -1.22167616e+01\n",
      "   -1.17139835e+01 -3.09232116e-01 -1.30207224e+01 -1.00541267e+01\n",
      "   -1.38018551e+01 -1.47046375e+01 -2.19963551e+00  7.22124529e+00\n",
      "    4.28951693e+00  7.12619841e-01 -1.83069199e-01 -1.29453287e+01\n",
      "   -2.87361336e+00  1.33107500e+01 -4.94434834e+00  2.67789497e+01\n",
      "    1.58610725e+01  9.90036869e+00  1.42859135e+01  2.12250352e+00\n",
      "    1.34188390e+00  7.84013510e+00 -1.87408066e+00 -4.25281525e-01\n",
      "   -1.38749313e+00 -2.32406330e+00]\n",
      "  [-4.63116169e+00 -5.03533077e+00 -6.18321991e+00 -1.17435951e+01\n",
      "   -1.17116499e+01  1.10809708e+00 -9.99243927e+00 -9.84280682e+00\n",
      "   -8.61721516e+00 -5.47759295e+00 -1.02031174e+01  1.74401627e+01\n",
      "    2.87643337e+00  2.00112629e+00 -3.75665814e-01 -1.29280109e+01\n",
      "   -3.17156887e+00 -8.05053532e-01 -3.74906969e+00  2.22391090e+01\n",
      "    1.79991322e+01  7.82307386e+00  1.23876929e+00 -4.69651079e+00\n",
      "    8.29633808e+00  2.83879423e+00 -4.84729862e+00 -3.90130806e+00\n",
      "   -4.51590157e+00 -4.82454491e+00]\n",
      "  [-7.60851145e+00 -8.25549030e+00 -2.07331581e+01 -1.02865515e+01\n",
      "   -1.49655209e+01  7.31264305e+00 -7.01932907e+00 -6.86800003e+00\n",
      "   -4.35633945e+00 -2.66849422e+00 -8.78610229e+00  1.69868374e+01\n",
      "    2.83776462e-01  7.88217008e-01 -3.22067642e+00 -8.72171783e+00\n",
      "   -8.76253009e-01 -6.47431183e+00 -6.41346574e-01  1.19648304e+01\n",
      "    7.13666010e+00  1.16708612e+01 -6.50106907e+00 -5.83658648e+00\n",
      "    9.77768135e+00  1.68802643e+00 -8.03350353e+00 -7.51639652e+00\n",
      "   -7.48701429e+00 -7.83769035e+00]]]\n"
     ]
    }
   ],
   "source": [
    "print(generator_embedding)"
   ]
  },
  {
   "cell_type": "code",
   "execution_count": 24,
   "metadata": {},
   "outputs": [
    {
     "name": "stdout",
     "output_type": "stream",
     "text": [
      "[[[-1.04451753e-01  1.96046561e-01  7.24662021e-02 ...  4.70826142e-02\n",
      "   -1.38892919e-01 -1.83729574e-01]\n",
      "  [-3.11757270e-02 -1.18080482e-01 -1.51422888e-01 ... -8.80779102e-02\n",
      "   -2.03648835e-01  2.34548226e-02]\n",
      "  [-6.92144260e-02 -7.63375461e-02 -1.78090129e-02 ... -4.15136591e-02\n",
      "   -3.08615640e-02 -8.58286917e-02]\n",
      "  ...\n",
      "  [-5.05250208e-02 -9.02514383e-02  6.78477511e-02 ... -4.76735011e-02\n",
      "   -9.57429931e-02 -1.68221872e-02]\n",
      "  [ 3.07772551e-02  7.55244400e-05 -5.32223955e-02 ... -1.47998398e-02\n",
      "   -1.57045141e-01 -9.64659974e-02]\n",
      "  [ 2.91315955e-03 -3.36663313e-02  1.97645389e-02 ...  1.61298245e-01\n",
      "   -1.03283875e-01 -1.35708630e-01]]\n",
      "\n",
      " [[-2.07917169e-01  1.58023492e-01  4.76760976e-02 ...  6.73385412e-02\n",
      "   -1.69237435e-01 -1.67796254e-01]\n",
      "  [-6.04736097e-02 -1.60798252e-01 -1.63700730e-01 ... -7.67329112e-02\n",
      "   -1.51252106e-01 -4.52130586e-02]\n",
      "  [-9.30741653e-02 -5.02011962e-02 -1.62956715e-02 ... -2.65419309e-04\n",
      "   -2.70892959e-03 -2.37736460e-02]\n",
      "  ...\n",
      "  [-1.82417214e-01 -3.13441940e-02  9.74617526e-03 ...  1.72021583e-01\n",
      "   -3.92515808e-02 -6.70019463e-02]\n",
      "  [-1.15254104e-01 -1.04350209e-01 -6.74719289e-02 ... -1.60024285e-01\n",
      "   -1.68166012e-01 -9.01474208e-02]\n",
      "  [-1.34273499e-01 -8.18955749e-02 -5.45873716e-02 ... -1.61771014e-01\n",
      "   -2.02696502e-01 -9.44774970e-02]]]\n"
     ]
    }
   ],
   "source": [
    "print(electra_embedding)"
   ]
  },
  {
   "cell_type": "markdown",
   "metadata": {},
   "source": [
    "<b>Optional: Remove padding ([PAD]) and special tokens ([CLS],[SEP]) that is added by Electra model<b>"
   ]
  },
  {
   "cell_type": "code",
   "execution_count": 25,
   "metadata": {},
   "outputs": [],
   "source": [
    "features = [] \n",
    "\n",
    "for seq_num in range(len(electra_embedding)):\n",
    "    seq_len = len(sequences_Example[seq_num].replace(\" \", \"\"))\n",
    "    start_Idx = 1\n",
    "    end_Idx = seq_len+1\n",
    "    seq_emd = electra_embedding[seq_num][start_Idx:end_Idx]\n",
    "    features.append(seq_emd)"
   ]
  },
  {
   "cell_type": "code",
   "execution_count": 26,
   "metadata": {},
   "outputs": [
    {
     "name": "stdout",
     "output_type": "stream",
     "text": [
      "[array([[-3.11757270e-02, -1.18080482e-01, -1.51422888e-01, ...,\n",
      "        -8.80779102e-02, -2.03648835e-01,  2.34548226e-02],\n",
      "       [-6.92144260e-02, -7.63375461e-02, -1.78090129e-02, ...,\n",
      "        -4.15136591e-02, -3.08615640e-02, -8.58286917e-02],\n",
      "       [ 3.80903780e-02, -1.71692193e-01, -5.64221852e-02, ...,\n",
      "        -1.18379034e-01, -9.77955908e-02,  2.44729687e-02],\n",
      "       ...,\n",
      "       [ 1.27262741e-01, -1.34989783e-01, -3.06518853e-01, ...,\n",
      "         3.99144813e-02, -4.54520248e-02, -3.57909858e-01],\n",
      "       [-5.05250208e-02, -9.02514383e-02,  6.78477511e-02, ...,\n",
      "        -4.76735011e-02, -9.57429931e-02, -1.68221872e-02],\n",
      "       [ 3.07772551e-02,  7.55244400e-05, -5.32223955e-02, ...,\n",
      "        -1.47998398e-02, -1.57045141e-01, -9.64659974e-02]]), array([[-6.04736097e-02, -1.60798252e-01, -1.63700730e-01, ...,\n",
      "        -7.67329112e-02, -1.51252106e-01, -4.52130586e-02],\n",
      "       [-9.30741653e-02, -5.02011962e-02, -1.62956715e-02, ...,\n",
      "        -2.65419309e-04, -2.70892959e-03, -2.37736460e-02],\n",
      "       [-4.23042327e-02, -1.51860461e-01, -6.50826469e-02, ...,\n",
      "        -1.45552168e-02, -7.37643838e-02, -5.66907823e-02],\n",
      "       [ 4.75768261e-02, -7.08767474e-02, -2.75032043e-01, ...,\n",
      "        -1.02747336e-01, -1.06809035e-01, -2.18676105e-01],\n",
      "       [-4.99714017e-02,  1.03256376e-02, -9.70155671e-02, ...,\n",
      "        -1.18602112e-01,  7.05885421e-03, -1.71629369e-01]])]\n"
     ]
    }
   ],
   "source": [
    "print(features)"
   ]
  }
 ],
 "metadata": {
  "kernelspec": {
   "display_name": "Python 3",
   "language": "python",
   "name": "python3"
  },
  "language_info": {
   "codemirror_mode": {
    "name": "ipython",
    "version": 3
   },
   "file_extension": ".py",
   "mimetype": "text/x-python",
   "name": "python",
   "nbconvert_exporter": "python",
   "pygments_lexer": "ipython3",
   "version": "3.7.2"
  }
 },
 "nbformat": 4,
 "nbformat_minor": 4
}
