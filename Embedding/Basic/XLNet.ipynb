{
 "cells": [
  {
   "cell_type": "markdown",
   "metadata": {},
   "source": [
    "<h3> Extracting protein sequences' features using XLNet pretrained-model <h3>"
   ]
  },
  {
   "cell_type": "markdown",
   "metadata": {},
   "source": [
    "<b>1. Load necessry libraries including huggingface transformers<b>"
   ]
  },
  {
   "cell_type": "code",
   "execution_count": 1,
   "metadata": {},
   "outputs": [],
   "source": [
    "import torch\n",
    "from transformers import XLNetModel, XLNetTokenizer\n",
    "import re"
   ]
  },
  {
   "cell_type": "markdown",
   "metadata": {},
   "source": [
    "<b>2. Set the file location of XLNet and the vocabulary file<b>"
   ]
  },
  {
   "cell_type": "code",
   "execution_count": 2,
   "metadata": {},
   "outputs": [],
   "source": [
    "modelPath = '/media/agemagician/Disk2/projects/bio_google_tpu_project/xlnet_pytorch/'\n",
    "vocabPath = '/media/agemagician/Disk2/projects/bio_google_tpu_project/xlnet_pytorch/spm_model.model'"
   ]
  },
  {
   "cell_type": "markdown",
   "metadata": {},
   "source": [
    "<b>3. Load the vocabulary and XLNet Model<b>"
   ]
  },
  {
   "cell_type": "code",
   "execution_count": 3,
   "metadata": {},
   "outputs": [],
   "source": [
    "vocab = XLNetTokenizer(vocabPath, do_lower_case=False)"
   ]
  },
  {
   "cell_type": "code",
   "execution_count": 4,
   "metadata": {},
   "outputs": [],
   "source": [
    "xlnet_men_len = 512"
   ]
  },
  {
   "cell_type": "code",
   "execution_count": 5,
   "metadata": {},
   "outputs": [],
   "source": [
    "model = XLNetModel.from_pretrained(modelPath,mem_len=xlnet_men_len)"
   ]
  },
  {
   "cell_type": "markdown",
   "metadata": {},
   "source": [
    "<b>4. Load the model into the GPU if avilabile and switch to inference mode<b>"
   ]
  },
  {
   "cell_type": "code",
   "execution_count": 6,
   "metadata": {},
   "outputs": [],
   "source": [
    "device = torch.device('cuda:0' if torch.cuda.is_available() else 'cpu')"
   ]
  },
  {
   "cell_type": "code",
   "execution_count": 7,
   "metadata": {},
   "outputs": [],
   "source": [
    "model = model.to(device)\n",
    "model = model.eval()"
   ]
  },
  {
   "cell_type": "markdown",
   "metadata": {},
   "source": [
    "<b>5. Create or load sequences and map rarely occured amino acids (U,Z,O,B) to (X)<b>"
   ]
  },
  {
   "cell_type": "code",
   "execution_count": 9,
   "metadata": {},
   "outputs": [],
   "source": [
    "sequences_Example = [\"A E T C Z A O\",\"S K T Z P\"]"
   ]
  },
  {
   "cell_type": "code",
   "execution_count": 10,
   "metadata": {},
   "outputs": [],
   "source": [
    "sequences_Example = [re.sub(r\"[UZOB]\", \"X\", sequence) for sequence in sequences_Example]"
   ]
  },
  {
   "cell_type": "markdown",
   "metadata": {},
   "source": [
    "<b>6. Tokenize, encode sequences and load it into the GPU if possibile<b>"
   ]
  },
  {
   "cell_type": "code",
   "execution_count": 10,
   "metadata": {},
   "outputs": [],
   "source": [
    "ids = vocab.batch_encode_plus(sequences_Example, add_special_tokens=True, pad_to_max_length=True)"
   ]
  },
  {
   "cell_type": "code",
   "execution_count": 11,
   "metadata": {},
   "outputs": [],
   "source": [
    "input_ids = torch.tensor(ids['input_ids']).to(device)\n",
    "attention_mask = torch.tensor(ids['attention_mask']).to(device)"
   ]
  },
  {
   "cell_type": "markdown",
   "metadata": {},
   "source": [
    "<b>7. Extracting sequences' features and load it into the CPU if needed<b>"
   ]
  },
  {
   "cell_type": "code",
   "execution_count": 12,
   "metadata": {},
   "outputs": [],
   "source": [
    "with torch.no_grad():\n",
    "    embedding, memory = model(input_ids=input_ids,attention_mask=attention_mask,mems=None)"
   ]
  },
  {
   "cell_type": "code",
   "execution_count": 13,
   "metadata": {},
   "outputs": [],
   "source": [
    "embedding = embedding.cpu().numpy()"
   ]
  },
  {
   "cell_type": "markdown",
   "metadata": {},
   "source": [
    "<b>8. Remove padding ([PAD]) and special tokens ([CLS],[SEP]) that is added by XLNet model<b>"
   ]
  },
  {
   "cell_type": "code",
   "execution_count": 14,
   "metadata": {},
   "outputs": [],
   "source": [
    "features = [] \n",
    "for seq_num in range(len(embedding)):\n",
    "    seq_len = (attention_mask[seq_num] == 1).sum()\n",
    "    padded_seq_len = len(attention_mask[seq_num])\n",
    "    seq_emd = embedding[seq_num][padded_seq_len-seq_len:padded_seq_len-2]\n",
    "    features.append(seq_emd)"
   ]
  },
  {
   "cell_type": "code",
   "execution_count": 15,
   "metadata": {},
   "outputs": [
    {
     "name": "stdout",
     "output_type": "stream",
     "text": [
      "[array([[ 0.48745167, -0.77087843,  0.9900183 , ..., -0.3735618 ,\n",
      "        -1.0589756 ,  0.95599765],\n",
      "       [ 0.2132598 , -0.54789025,  0.6115491 , ..., -0.0547135 ,\n",
      "        -0.8787895 ,  0.24645136],\n",
      "       [ 0.37891388, -0.63965726,  0.6722448 , ..., -0.14891215,\n",
      "        -0.6769581 ,  0.34598234],\n",
      "       ...,\n",
      "       [ 0.09264987, -0.68101084,  0.5181861 , ..., -0.32756191,\n",
      "        -0.5673121 , -0.16441266],\n",
      "       [-0.08533158, -0.7438229 ,  0.29890764, ..., -0.24376382,\n",
      "        -0.11153158, -0.72609884],\n",
      "       [-0.48225796, -0.8381684 ,  0.08214322, ..., -0.2519644 ,\n",
      "        -0.03577379, -0.5348936 ]], dtype=float32), array([[ 1.0403059 , -0.95049363,  0.33534417, ..., -0.237473  ,\n",
      "        -0.27550715,  0.47948807],\n",
      "       [ 0.5085368 , -0.95084655,  1.0235124 , ..., -0.05893078,\n",
      "        -0.97528106,  0.08713181],\n",
      "       [ 0.6562669 , -0.7540624 ,  0.4323474 , ...,  0.36707532,\n",
      "        -0.70632553, -0.5553411 ],\n",
      "       [ 0.59033877,  0.1415198 ,  0.29578793, ...,  0.20600986,\n",
      "        -0.8735826 ,  0.80679643],\n",
      "       [ 0.41400638,  0.6131694 ,  0.04792173, ...,  0.18511453,\n",
      "        -0.3409821 , -0.4119997 ]], dtype=float32)]\n"
     ]
    }
   ],
   "source": [
    "print(features)"
   ]
  },
  {
   "cell_type": "code",
   "execution_count": null,
   "metadata": {},
   "outputs": [],
   "source": []
  },
  {
   "cell_type": "code",
   "execution_count": 18,
   "metadata": {},
   "outputs": [],
   "source": [
    "from transformers import pipeline\n",
    "import numpy as np"
   ]
  },
  {
   "cell_type": "code",
   "execution_count": 11,
   "metadata": {},
   "outputs": [],
   "source": [
    "nlp = pipeline('feature-extraction', model=model, tokenizer=vocab,device=0)"
   ]
  },
  {
   "cell_type": "code",
   "execution_count": 12,
   "metadata": {},
   "outputs": [],
   "source": [
    "fet = nlp(sequences_Example)"
   ]
  },
  {
   "cell_type": "code",
   "execution_count": 16,
   "metadata": {},
   "outputs": [
    {
     "data": {
      "text/plain": [
       "9"
      ]
     },
     "execution_count": 16,
     "metadata": {},
     "output_type": "execute_result"
    }
   ],
   "source": [
    "len(fet[0])"
   ]
  },
  {
   "cell_type": "code",
   "execution_count": 20,
   "metadata": {},
   "outputs": [],
   "source": [
    "embedding = np.array(fet)"
   ]
  },
  {
   "cell_type": "code",
   "execution_count": 29,
   "metadata": {},
   "outputs": [
    {
     "name": "stdout",
     "output_type": "stream",
     "text": [
      "7\n",
      "9\n",
      "5\n",
      "9\n"
     ]
    }
   ],
   "source": [
    "features = [] \n",
    "for seq_num in range(len(embedding)):\n",
    "    seq_len = len(sequences_Example[seq_num].replace(\" \", \"\"))\n",
    "    padded_seq_len = len(embedding[seq_num])\n",
    "    print(seq_len)\n",
    "    print(padded_seq_len)\n",
    "    seq_emd = embedding[seq_num][padded_seq_len-seq_len:padded_seq_len-2]\n",
    "    features.append(seq_emd)"
   ]
  },
  {
   "cell_type": "code",
   "execution_count": 22,
   "metadata": {},
   "outputs": [
    {
     "data": {
      "text/plain": [
       "13"
      ]
     },
     "execution_count": 22,
     "metadata": {},
     "output_type": "execute_result"
    }
   ],
   "source": [
    "len(sequences_Example[0])"
   ]
  },
  {
   "cell_type": "code",
   "execution_count": 23,
   "metadata": {},
   "outputs": [
    {
     "data": {
      "text/plain": [
       "7"
      ]
     },
     "execution_count": 23,
     "metadata": {},
     "output_type": "execute_result"
    }
   ],
   "source": [
    "len(sequences_Example[0].replace(\" \", \"\"))"
   ]
  },
  {
   "cell_type": "code",
   "execution_count": 28,
   "metadata": {},
   "outputs": [
    {
     "data": {
      "text/plain": [
       "(3, 1024)"
      ]
     },
     "execution_count": 28,
     "metadata": {},
     "output_type": "execute_result"
    }
   ],
   "source": [
    "features[1].shape"
   ]
  },
  {
   "cell_type": "code",
   "execution_count": null,
   "metadata": {},
   "outputs": [],
   "source": []
  }
 ],
 "metadata": {
  "kernelspec": {
   "display_name": "Python 3",
   "language": "python",
   "name": "python3"
  },
  "language_info": {
   "codemirror_mode": {
    "name": "ipython",
    "version": 3
   },
   "file_extension": ".py",
   "mimetype": "text/x-python",
   "name": "python",
   "nbconvert_exporter": "python",
   "pygments_lexer": "ipython3",
   "version": "3.7.2"
  }
 },
 "nbformat": 4,
 "nbformat_minor": 4
}
