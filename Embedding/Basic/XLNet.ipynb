{
 "cells": [
  {
   "cell_type": "markdown",
   "metadata": {},
   "source": [
    "<h3> Extracting protein sequences' features using XLNet pretrained-model <h3>"
   ]
  },
  {
   "cell_type": "markdown",
   "metadata": {},
   "source": [
    "<b>1. Load necessry libraries including huggingface transformers<b>"
   ]
  },
  {
   "cell_type": "code",
   "execution_count": 1,
   "metadata": {},
   "outputs": [],
   "source": [
    "import torch\n",
    "from transformers import XLNetModel, XLNetTokenizer, pipeline\n",
    "import re\n",
    "import numpy as np"
   ]
  },
  {
   "cell_type": "markdown",
   "metadata": {},
   "source": [
    "<b>2. Set the file location of XLNet and the vocabulary file<b>"
   ]
  },
  {
   "cell_type": "code",
   "execution_count": 2,
   "metadata": {},
   "outputs": [],
   "source": [
    "modelPath = '/media/agemagician/Disk2/projects/bio_google_tpu_project/xlnet_pytorch/'\n",
    "vocabPath = '/media/agemagician/Disk2/projects/bio_google_tpu_project/xlnet_pytorch/spm_model.model'"
   ]
  },
  {
   "cell_type": "markdown",
   "metadata": {},
   "source": [
    "<b>3. Load the vocabulary and XLNet Model<b>"
   ]
  },
  {
   "cell_type": "code",
   "execution_count": 3,
   "metadata": {},
   "outputs": [],
   "source": [
    "vocab = XLNetTokenizer(vocabPath, do_lower_case=False)"
   ]
  },
  {
   "cell_type": "code",
   "execution_count": 4,
   "metadata": {},
   "outputs": [],
   "source": [
    "model = XLNetModel.from_pretrained(modelPath)"
   ]
  },
  {
   "cell_type": "markdown",
   "metadata": {},
   "source": [
    "<b>4. Load the model into the GPU if avilabile<b>"
   ]
  },
  {
   "cell_type": "code",
   "execution_count": 5,
   "metadata": {},
   "outputs": [],
   "source": [
    "model = pipeline('feature-extraction', model=model, tokenizer=vocab,device=0)"
   ]
  },
  {
   "cell_type": "markdown",
   "metadata": {},
   "source": [
    "<b>5. Create or load sequences and map rarely occured amino acids (U,Z,O,B) to (X)<b>"
   ]
  },
  {
   "cell_type": "code",
   "execution_count": 6,
   "metadata": {},
   "outputs": [],
   "source": [
    "sequences_Example = [\"A E T C Z A O\",\"S K T Z P\"]"
   ]
  },
  {
   "cell_type": "code",
   "execution_count": 7,
   "metadata": {},
   "outputs": [],
   "source": [
    "sequences_Example = [re.sub(r\"[UZOB]\", \"X\", sequence) for sequence in sequences_Example]"
   ]
  },
  {
   "cell_type": "markdown",
   "metadata": {},
   "source": [
    "<b>6. Extracting sequences' features and covert the output to numpy if needed<b>"
   ]
  },
  {
   "cell_type": "code",
   "execution_count": 8,
   "metadata": {},
   "outputs": [],
   "source": [
    "embedding = model(sequences_Example)"
   ]
  },
  {
   "cell_type": "code",
   "execution_count": 9,
   "metadata": {},
   "outputs": [],
   "source": [
    "embedding = np.array(embedding)"
   ]
  },
  {
   "cell_type": "code",
   "execution_count": 10,
   "metadata": {},
   "outputs": [
    {
     "name": "stdout",
     "output_type": "stream",
     "text": [
      "[[[ 5.69581389e-01 -8.12229156e-01  1.51267779e+00 ... -3.47373039e-01\n",
      "   -1.97737503e+00  1.02282655e+00]\n",
      "  [ 2.76620593e-02 -6.71196163e-01  9.98872876e-01 ...  7.27678835e-02\n",
      "   -1.62625921e+00 -8.44672695e-03]\n",
      "  [ 2.20985755e-01 -5.26815534e-01  6.64871275e-01 ...  4.78132330e-02\n",
      "   -1.39787042e+00  3.08236301e-01]\n",
      "  ...\n",
      "  [-3.64927173e-01 -8.19321752e-01  4.81532007e-01 ...  2.35715851e-01\n",
      "   -6.73881233e-01 -1.06030214e+00]\n",
      "  [ 4.51355964e-01 -8.96942437e-01  4.00961936e-01 ... -1.93732589e-01\n",
      "   -5.60827076e-01 -2.78551757e-01]\n",
      "  [ 3.18277806e-01 -1.61193049e+00  4.94404763e-01 ... -2.51358896e-01\n",
      "   -1.32739350e-01 -1.23085007e-02]]\n",
      "\n",
      " [[ 1.91230953e-01  1.84453893e-02 -1.82769471e-03 ... -4.36504394e-01\n",
      "    2.18427107e-02 -1.59096345e-01]\n",
      "  [ 2.63838321e-01 -6.02972694e-02 -1.12769334e-02 ... -2.28307098e-01\n",
      "   -3.21158886e-01  1.10597774e-01]\n",
      "  [ 8.65127563e-01 -1.61870375e-01 -1.75775871e-01 ...  3.56552184e-01\n",
      "   -2.34119356e-01  4.93951626e-02]\n",
      "  ...\n",
      "  [ 4.84944880e-01  6.79003954e-01  3.08671623e-01 ...  7.47229606e-02\n",
      "   -3.86943042e-01 -3.16799998e-01]\n",
      "  [ 8.82356167e-01  1.08732843e+00  1.10504180e-01 ...  2.86997944e-01\n",
      "   -1.13194549e+00  7.79397711e-02]\n",
      "  [ 5.38626850e-01 -1.53351948e-02 -6.67608500e-01 ...  6.61961854e-01\n",
      "    1.94284804e-02 -7.00098157e-01]]]\n"
     ]
    }
   ],
   "source": [
    "print(embedding)"
   ]
  },
  {
   "cell_type": "markdown",
   "metadata": {},
   "source": [
    "<b>Optional: Remove padding ([PAD]) and special tokens ([CLS],[SEP]) that is added by XLNet model<b>"
   ]
  },
  {
   "cell_type": "code",
   "execution_count": 11,
   "metadata": {},
   "outputs": [],
   "source": [
    "features = [] \n",
    "for seq_num in range(len(embedding)):\n",
    "    seq_len = len(sequences_Example[seq_num].replace(\" \", \"\"))\n",
    "    padded_seq_len = len(embedding[seq_num])\n",
    "    start_Idx = padded_seq_len-seq_len-2\n",
    "    end_Idx = padded_seq_len-2\n",
    "    seq_emd = embedding[seq_num][start_Idx:end_Idx]\n",
    "    features.append(seq_emd)"
   ]
  },
  {
   "cell_type": "code",
   "execution_count": 12,
   "metadata": {},
   "outputs": [
    {
     "name": "stdout",
     "output_type": "stream",
     "text": [
      "[array([[ 0.56958139, -0.81222916,  1.51267779, ..., -0.34737304,\n",
      "        -1.97737503,  1.02282655],\n",
      "       [ 0.02766206, -0.67119616,  0.99887288, ...,  0.07276788,\n",
      "        -1.62625921, -0.00844673],\n",
      "       [ 0.22098576, -0.52681553,  0.66487128, ...,  0.04781323,\n",
      "        -1.39787042,  0.3082363 ],\n",
      "       ...,\n",
      "       [ 0.70799679, -0.66436082,  0.85833895, ..., -0.02473486,\n",
      "        -1.51670837, -0.21759787],\n",
      "       [-0.14213672, -0.86483973,  0.81442684, ..., -0.3299906 ,\n",
      "        -0.23385416, -1.71955085],\n",
      "       [-0.36492717, -0.81932175,  0.48153201, ...,  0.23571585,\n",
      "        -0.67388123, -1.06030214]]), array([[ 0.86512756, -0.16187038, -0.17577587, ...,  0.35655218,\n",
      "        -0.23411936,  0.04939516],\n",
      "       [ 0.16243289, -0.2235232 ,  0.53584665, ...,  0.37107733,\n",
      "        -0.72950965, -0.29674751],\n",
      "       [ 0.64317876, -0.07562793,  0.37602416, ...,  0.80507225,\n",
      "        -1.03585291, -0.67776859],\n",
      "       [ 0.67437631,  0.27612686,  0.44298273, ...,  0.13377124,\n",
      "        -0.96995813,  0.94658571],\n",
      "       [ 0.48494488,  0.67900395,  0.30867162, ...,  0.07472296,\n",
      "        -0.38694304, -0.3168    ]])]\n"
     ]
    }
   ],
   "source": [
    "print(features)"
   ]
  }
 ],
 "metadata": {
  "kernelspec": {
   "display_name": "Python 3",
   "language": "python",
   "name": "python3"
  },
  "language_info": {
   "codemirror_mode": {
    "name": "ipython",
    "version": 3
   },
   "file_extension": ".py",
   "mimetype": "text/x-python",
   "name": "python",
   "nbconvert_exporter": "python",
   "pygments_lexer": "ipython3",
   "version": "3.7.2"
  }
 },
 "nbformat": 4,
 "nbformat_minor": 4
}
