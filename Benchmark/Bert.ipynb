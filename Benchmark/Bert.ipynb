{
  "nbformat": 4,
  "nbformat_minor": 0,
  "metadata": {
    "kernelspec": {
      "display_name": "Python 3",
      "language": "python",
      "name": "python3"
    },
    "language_info": {
      "codemirror_mode": {
        "name": "ipython",
        "version": 3
      },
      "file_extension": ".py",
      "mimetype": "text/x-python",
      "name": "python",
      "nbconvert_exporter": "python",
      "pygments_lexer": "ipython3",
      "version": "3.7.2"
    },
    "colab": {
      "name": "Bert.ipynb",
      "provenance": [],
      "include_colab_link": true
    },
    "accelerator": "GPU"
  },
  "cells": [
    {
      "cell_type": "markdown",
      "metadata": {
        "id": "view-in-github",
        "colab_type": "text"
      },
      "source": [
        "<a href=\"https://colab.research.google.com/github/agemagician/Prot-Transformers/blob/master/Benchmark/Bert.ipynb\" target=\"_parent\"><img src=\"https://colab.research.google.com/assets/colab-badge.svg\" alt=\"Open In Colab\"/></a>"
      ]
    },
    {
      "cell_type": "markdown",
      "metadata": {
        "id": "jKLvLEnt0aw7",
        "colab_type": "text"
      },
      "source": [
        "<h3> Benchmark ProtBert Model using GPU or CPU <h3>"
      ]
    },
    {
      "cell_type": "markdown",
      "metadata": {
        "id": "3jXYUooT0aw9",
        "colab_type": "text"
      },
      "source": [
        "<b>1. Load necessry libraries including huggingface transformers<b>"
      ]
    },
    {
      "cell_type": "code",
      "metadata": {
        "id": "DpoYBdbs0jSS",
        "colab_type": "code",
        "colab": {
          "base_uri": "https://localhost:8080/",
          "height": 102
        },
        "outputId": "46ca1e2b-f44e-4d69-84eb-dab81a89a1b9"
      },
      "source": [
        "!pip install -q transformers\n",
        "!pip install -q gdown"
      ],
      "execution_count": 1,
      "outputs": [
        {
          "output_type": "stream",
          "text": [
            "\u001b[K     |████████████████████████████████| 675kB 8.1MB/s \n",
            "\u001b[K     |████████████████████████████████| 890kB 23.3MB/s \n",
            "\u001b[K     |████████████████████████████████| 3.8MB 47.6MB/s \n",
            "\u001b[K     |████████████████████████████████| 1.1MB 51.3MB/s \n",
            "\u001b[?25h  Building wheel for sacremoses (setup.py) ... \u001b[?25l\u001b[?25hdone\n"
          ],
          "name": "stdout"
        }
      ]
    },
    {
      "cell_type": "code",
      "metadata": {
        "id": "GnGZuNIm0axA",
        "colab_type": "code",
        "colab": {}
      },
      "source": [
        "import torch\n",
        "from transformers import BertModel\n",
        "import time\n",
        "from datetime import timedelta\n",
        "import os\n",
        "import gdown"
      ],
      "execution_count": 2,
      "outputs": []
    },
    {
      "cell_type": "markdown",
      "metadata": {
        "id": "XqmVMZYw0axG",
        "colab_type": "text"
      },
      "source": [
        "<b>2. Set the url location of ProtBert and the vocabulary file<b>"
      ]
    },
    {
      "cell_type": "code",
      "metadata": {
        "id": "D9-pJtmU0axH",
        "colab_type": "code",
        "colab": {}
      },
      "source": [
        "modelUrl = 'https://drive.google.com/uc?export=download&confirm=BTQ_&id=1mLuVhMuGTSSfVkK1rrmBSTC5yiCpGy--'\n",
        "configUrl = 'https://drive.google.com/uc?export=download&confirm=BTQ_&id=1hg30JtXz6Okl0esJnMC2J_9TNbx5gJpl'\n",
        "vocabUrl = 'https://drive.google.com/uc?export=download&confirm=BTQ_&id=15eFspbhoF5uUZ6xKKTAIGOunXYDeFruL'"
      ],
      "execution_count": 3,
      "outputs": []
    },
    {
      "cell_type": "markdown",
      "metadata": {
        "id": "Cv_-QMOE1EME",
        "colab_type": "text"
      },
      "source": [
        "<b>3. Download ProtBert models and vocabulary files<b>"
      ]
    },
    {
      "cell_type": "code",
      "metadata": {
        "id": "GpJpbyfJ1LSU",
        "colab_type": "code",
        "colab": {}
      },
      "source": [
        "downloadFolderPath = 'models/ProtBert/'"
      ],
      "execution_count": 4,
      "outputs": []
    },
    {
      "cell_type": "code",
      "metadata": {
        "id": "hhrYlqAu1LbS",
        "colab_type": "code",
        "colab": {}
      },
      "source": [
        "modelFolderPath = downloadFolderPath\n",
        "\n",
        "modelFilePath = os.path.join(modelFolderPath, 'pytorch_model.bin')\n",
        "\n",
        "configFilePath = os.path.join(modelFolderPath, 'config.json')\n",
        "\n",
        "vocabFilePath = os.path.join(modelFolderPath, 'vocab.txt')"
      ],
      "execution_count": 5,
      "outputs": []
    },
    {
      "cell_type": "code",
      "metadata": {
        "id": "9RgoS6bj1Lga",
        "colab_type": "code",
        "colab": {}
      },
      "source": [
        "if not os.path.exists(modelFolderPath):\n",
        "    os.makedirs(modelFolderPath)"
      ],
      "execution_count": 6,
      "outputs": []
    },
    {
      "cell_type": "code",
      "metadata": {
        "id": "5nQI_lPu1ZBx",
        "colab_type": "code",
        "colab": {}
      },
      "source": [
        "def download_file(url,filename):\n",
        "  while not os.path.exists(filename):\n",
        "    gdown.download(url,filename, quiet=False)"
      ],
      "execution_count": 7,
      "outputs": []
    },
    {
      "cell_type": "code",
      "metadata": {
        "id": "c7UfPSyL1ZHM",
        "colab_type": "code",
        "colab": {
          "base_uri": "https://localhost:8080/",
          "height": 221
        },
        "outputId": "12b02402-d9c2-45f8-f126-06259f027db0"
      },
      "source": [
        "if not os.path.exists(modelFilePath):\n",
        "    download_file(modelUrl, modelFilePath)\n",
        "\n",
        "if not os.path.exists(configFilePath):\n",
        "    download_file(configUrl, configFilePath)\n",
        "\n",
        "if not os.path.exists(vocabFilePath):\n",
        "    download_file(vocabUrl, vocabFilePath)"
      ],
      "execution_count": 8,
      "outputs": [
        {
          "output_type": "stream",
          "text": [
            "Downloading...\n",
            "From: https://drive.google.com/uc?export=download&confirm=BTQ_&id=1mLuVhMuGTSSfVkK1rrmBSTC5yiCpGy--\n",
            "To: /content/models/ProtBert/pytorch_model.bin\n",
            "1.68GB [00:08, 191MB/s] \n",
            "Downloading...\n",
            "From: https://drive.google.com/uc?export=download&confirm=BTQ_&id=1hg30JtXz6Okl0esJnMC2J_9TNbx5gJpl\n",
            "To: /content/models/ProtBert/config.json\n",
            "100%|██████████| 313/313 [00:00<00:00, 354kB/s]\n",
            "Downloading...\n",
            "From: https://drive.google.com/uc?export=download&confirm=BTQ_&id=15eFspbhoF5uUZ6xKKTAIGOunXYDeFruL\n",
            "To: /content/models/ProtBert/vocab.txt\n",
            "100%|██████████| 81.0/81.0 [00:00<00:00, 102kB/s]\n"
          ],
          "name": "stderr"
        }
      ]
    },
    {
      "cell_type": "markdown",
      "metadata": {
        "id": "DA8VJMAk0axN",
        "colab_type": "text"
      },
      "source": [
        "<b>4. Load ProtBert Model<b>"
      ]
    },
    {
      "cell_type": "code",
      "metadata": {
        "id": "hjXcKjqg0axP",
        "colab_type": "code",
        "colab": {}
      },
      "source": [
        "model = BertModel.from_pretrained(modelFolderPath)"
      ],
      "execution_count": 9,
      "outputs": []
    },
    {
      "cell_type": "markdown",
      "metadata": {
        "id": "hKD2Qvde0axT",
        "colab_type": "text"
      },
      "source": [
        "<b>5. Load the model into the GPU if avilabile and switch to inference mode<b>"
      ]
    },
    {
      "cell_type": "code",
      "metadata": {
        "id": "ksASffyj0axU",
        "colab_type": "code",
        "colab": {}
      },
      "source": [
        "device = torch.device('cuda:0' if torch.cuda.is_available() else 'cpu')"
      ],
      "execution_count": 10,
      "outputs": []
    },
    {
      "cell_type": "code",
      "metadata": {
        "id": "hxf0RX9o0axX",
        "colab_type": "code",
        "colab": {}
      },
      "source": [
        "model = model.to(device)\n",
        "model = model.eval()"
      ],
      "execution_count": 11,
      "outputs": []
    },
    {
      "cell_type": "markdown",
      "metadata": {
        "id": "JGRdbkad0axb",
        "colab_type": "text"
      },
      "source": [
        "<b>6. Benchmark Configuration<b>"
      ]
    },
    {
      "cell_type": "code",
      "metadata": {
        "id": "JFkGZ1gT0axl",
        "colab_type": "code",
        "colab": {}
      },
      "source": [
        "min_batch_size = 8\n",
        "max_batch_size = 32\n",
        "inc_batch_size = 8\n",
        "\n",
        "min_sequence_length = 64\n",
        "max_sequence_length = 512\n",
        "inc_sequence_length = 64\n",
        "\n",
        "iterations = 10"
      ],
      "execution_count": 12,
      "outputs": []
    },
    {
      "cell_type": "markdown",
      "metadata": {
        "id": "atUiO9Y10axr",
        "colab_type": "text"
      },
      "source": [
        "<b>7. Start Benchmarking<b>"
      ]
    },
    {
      "cell_type": "code",
      "metadata": {
        "id": "xbAIdSYl0axs",
        "colab_type": "code",
        "colab": {
          "base_uri": "https://localhost:8080/",
          "height": 748
        },
        "outputId": "b7ce48f2-cebc-4b85-f634-6f9d5a8a426d"
      },
      "source": [
        "device_name = torch.cuda.get_device_name(device.index) if device.type == 'cuda' else 'CPU'\n",
        "\n",
        "with torch.no_grad():\n",
        "    print((' Benchmarking using ' + device_name + ' ').center(80, '*'))\n",
        "    print(' Start '.center(80, '*'))\n",
        "    for sequence_length in range(min_sequence_length,max_sequence_length+1,inc_sequence_length):\n",
        "        for batch_size in range(min_batch_size,max_batch_size+1,inc_batch_size):\n",
        "            start = time.time()\n",
        "            for i in range(iterations):\n",
        "                input_ids = torch.randint(1, 20, (batch_size,sequence_length)).to(device)\n",
        "                results = model(input_ids)[0].cpu().numpy()\n",
        "            end = time.time()\n",
        "            ms_per_protein = (end-start)/(iterations*batch_size)\n",
        "            print('Sequence Length: %4d \\t Batch Size: %4d \\t Ms per protein %4.2f' %(sequence_length,batch_size,ms_per_protein))\n",
        "        print(' Done '.center(80, '*'))\n",
        "    print(' Finished '.center(80, '*'))"
      ],
      "execution_count": 13,
      "outputs": [
        {
          "output_type": "stream",
          "text": [
            "******************* Benchmarking using Tesla P100-PCIE-16GB ********************\n",
            "************************************ Start *************************************\n",
            "Sequence Length:   64 \t Batch Size:    8 \t Ms per protein 0.01\n",
            "Sequence Length:   64 \t Batch Size:   16 \t Ms per protein 0.01\n",
            "Sequence Length:   64 \t Batch Size:   24 \t Ms per protein 0.01\n",
            "Sequence Length:   64 \t Batch Size:   32 \t Ms per protein 0.01\n",
            "************************************* Done *************************************\n",
            "Sequence Length:  128 \t Batch Size:    8 \t Ms per protein 0.02\n",
            "Sequence Length:  128 \t Batch Size:   16 \t Ms per protein 0.02\n",
            "Sequence Length:  128 \t Batch Size:   24 \t Ms per protein 0.02\n",
            "Sequence Length:  128 \t Batch Size:   32 \t Ms per protein 0.02\n",
            "************************************* Done *************************************\n",
            "Sequence Length:  192 \t Batch Size:    8 \t Ms per protein 0.02\n",
            "Sequence Length:  192 \t Batch Size:   16 \t Ms per protein 0.02\n",
            "Sequence Length:  192 \t Batch Size:   24 \t Ms per protein 0.02\n",
            "Sequence Length:  192 \t Batch Size:   32 \t Ms per protein 0.02\n",
            "************************************* Done *************************************\n",
            "Sequence Length:  256 \t Batch Size:    8 \t Ms per protein 0.04\n",
            "Sequence Length:  256 \t Batch Size:   16 \t Ms per protein 0.03\n",
            "Sequence Length:  256 \t Batch Size:   24 \t Ms per protein 0.03\n",
            "Sequence Length:  256 \t Batch Size:   32 \t Ms per protein 0.03\n",
            "************************************* Done *************************************\n",
            "Sequence Length:  320 \t Batch Size:    8 \t Ms per protein 0.04\n",
            "Sequence Length:  320 \t Batch Size:   16 \t Ms per protein 0.04\n",
            "Sequence Length:  320 \t Batch Size:   24 \t Ms per protein 0.04\n",
            "Sequence Length:  320 \t Batch Size:   32 \t Ms per protein 0.04\n",
            "************************************* Done *************************************\n",
            "Sequence Length:  384 \t Batch Size:    8 \t Ms per protein 0.05\n",
            "Sequence Length:  384 \t Batch Size:   16 \t Ms per protein 0.05\n",
            "Sequence Length:  384 \t Batch Size:   24 \t Ms per protein 0.05\n",
            "Sequence Length:  384 \t Batch Size:   32 \t Ms per protein 0.05\n",
            "************************************* Done *************************************\n",
            "Sequence Length:  448 \t Batch Size:    8 \t Ms per protein 0.06\n",
            "Sequence Length:  448 \t Batch Size:   16 \t Ms per protein 0.06\n",
            "Sequence Length:  448 \t Batch Size:   24 \t Ms per protein 0.06\n",
            "Sequence Length:  448 \t Batch Size:   32 \t Ms per protein 0.06\n",
            "************************************* Done *************************************\n",
            "Sequence Length:  512 \t Batch Size:    8 \t Ms per protein 0.07\n",
            "Sequence Length:  512 \t Batch Size:   16 \t Ms per protein 0.07\n",
            "Sequence Length:  512 \t Batch Size:   24 \t Ms per protein 0.07\n",
            "Sequence Length:  512 \t Batch Size:   32 \t Ms per protein 0.07\n",
            "************************************* Done *************************************\n",
            "*********************************** Finished ***********************************\n"
          ],
          "name": "stdout"
        }
      ]
    }
  ]
}