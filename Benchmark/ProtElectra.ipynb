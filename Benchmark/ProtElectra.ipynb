{
  "nbformat": 4,
  "nbformat_minor": 0,
  "metadata": {
    "colab": {
      "name": "Untitled26.ipynb",
      "provenance": [],
      "authorship_tag": "ABX9TyPjRO7CoIdyjOvzhAyMbITP",
      "include_colab_link": true
    },
    "kernelspec": {
      "name": "python3",
      "display_name": "Python 3"
    },
    "accelerator": "GPU"
  },
  "cells": [
    {
      "cell_type": "markdown",
      "metadata": {
        "id": "view-in-github",
        "colab_type": "text"
      },
      "source": [
        "<a href=\"https://colab.research.google.com/github/agemagician/Prot-Transformers/blob/master/Benchmark/ProtElectra.ipynb\" target=\"_parent\"><img src=\"https://colab.research.google.com/assets/colab-badge.svg\" alt=\"Open In Colab\"/></a>"
      ]
    },
    {
      "cell_type": "markdown",
      "metadata": {
        "id": "TqnIJfnOV-no",
        "colab_type": "text"
      },
      "source": [
        "<b>Benchmark ProtElectra Model using GPU or CPU</b>"
      ]
    },
    {
      "cell_type": "markdown",
      "metadata": {
        "id": "YGknPA-1WJyt",
        "colab_type": "text"
      },
      "source": [
        "<b>1. Load necessry libraries including huggingface transformers</b>"
      ]
    },
    {
      "cell_type": "code",
      "metadata": {
        "id": "glTXi_d_V6cy",
        "colab_type": "code",
        "colab": {
          "base_uri": "https://localhost:8080/",
          "height": 102
        },
        "outputId": "9130a847-8d47-4d80-9743-2746309982ba"
      },
      "source": [
        "!pip install -q transformers\n",
        "!pip install -q gdown"
      ],
      "execution_count": 1,
      "outputs": [
        {
          "output_type": "stream",
          "text": [
            "\u001b[K     |████████████████████████████████| 675kB 4.7MB/s \n",
            "\u001b[K     |████████████████████████████████| 1.1MB 20.0MB/s \n",
            "\u001b[K     |████████████████████████████████| 890kB 30.7MB/s \n",
            "\u001b[K     |████████████████████████████████| 3.8MB 44.1MB/s \n",
            "\u001b[?25h  Building wheel for sacremoses (setup.py) ... \u001b[?25l\u001b[?25hdone\n"
          ],
          "name": "stdout"
        }
      ]
    },
    {
      "cell_type": "code",
      "metadata": {
        "id": "oLipp_xwWOUE",
        "colab_type": "code",
        "colab": {}
      },
      "source": [
        "import torch\n",
        "from transformers import ElectraForMaskedLM, ElectraModel, pipeline\n",
        "import time\n",
        "from datetime import timedelta\n",
        "import os\n",
        "import gdown"
      ],
      "execution_count": 2,
      "outputs": []
    },
    {
      "cell_type": "markdown",
      "metadata": {
        "id": "NTN9-KfTWjqs",
        "colab_type": "text"
      },
      "source": [
        "<B>2. Set the url location of ProtElectr and the vocabulary file</b>"
      ]
    },
    {
      "cell_type": "code",
      "metadata": {
        "id": "GtlaUgNZWhDG",
        "colab_type": "code",
        "colab": {}
      },
      "source": [
        "generatorModelUrl = 'https://drive.google.com/uc?export=download&confirm=BTQ_&id=1vaB80ioD8MNFB3zE_5AD-QJtNy0389jg'\n",
        "discriminatorModelUrl = 'https://drive.google.com/uc?export=download&confirm=BTQ_&id=1xMUwFYs4tgD7qIs7XrrqQ6tKabH7ZyS9'\n",
        "\n",
        "generatorConfigUrl = 'https://drive.google.com/uc?export=download&confirm=BTQ_&id=1SBtS-9_Wy26vZDjXBEos9KuiQc7TChhT'\n",
        "discriminatorConfigUrl = 'https://drive.google.com/uc?export=download&confirm=BTQ_&id=1jZQLHL4TTMK5eoWL-JhihiVRVoUepC_B'\n",
        "\n",
        "vocabUrl = 'https://drive.google.com/uc?export=download&confirm=BTQ_&id=1vuAP1zRvN1c6EHoSQMVC2ivZMTpzYR0P'"
      ],
      "execution_count": 3,
      "outputs": []
    },
    {
      "cell_type": "markdown",
      "metadata": {
        "id": "xBgLUQAZWugs",
        "colab_type": "text"
      },
      "source": [
        "<b>3. Download ProtElectra models and vocabulary files</b>"
      ]
    },
    {
      "cell_type": "code",
      "metadata": {
        "id": "iAG99e_wWr9J",
        "colab_type": "code",
        "colab": {}
      },
      "source": [
        "downloadFolderPath = 'models/electra/'"
      ],
      "execution_count": 4,
      "outputs": []
    },
    {
      "cell_type": "code",
      "metadata": {
        "id": "Mn7adbHfW7Uf",
        "colab_type": "code",
        "colab": {}
      },
      "source": [
        "discriminatorFolderPath = os.path.join(downloadFolderPath, 'discriminator')\n",
        "generatorFolderPath = os.path.join(downloadFolderPath, 'generator')\n",
        "\n",
        "discriminatorModelFilePath = os.path.join(discriminatorFolderPath, 'pytorch_model.bin')\n",
        "generatorModelFilePath = os.path.join(generatorFolderPath, 'pytorch_model.bin')\n",
        "\n",
        "discriminatorConfigFilePath = os.path.join(discriminatorFolderPath, 'config.json')\n",
        "generatorConfigFilePath = os.path.join(generatorFolderPath, 'config.json')\n",
        "\n",
        "vocabFilePath = os.path.join(downloadFolderPath, 'vocab.txt')"
      ],
      "execution_count": 5,
      "outputs": []
    },
    {
      "cell_type": "code",
      "metadata": {
        "id": "oM1oiBC7W9cd",
        "colab_type": "code",
        "colab": {}
      },
      "source": [
        "if not os.path.exists(discriminatorFolderPath):\n",
        "    os.makedirs(discriminatorFolderPath)\n",
        "if not os.path.exists(generatorFolderPath):\n",
        "    os.makedirs(generatorFolderPath)"
      ],
      "execution_count": 6,
      "outputs": []
    },
    {
      "cell_type": "code",
      "metadata": {
        "id": "3Qhb0Qe2W_nX",
        "colab_type": "code",
        "colab": {}
      },
      "source": [
        "def download_file(url,filename):\n",
        "  while not os.path.exists(filename):\n",
        "    gdown.download(url,filename, quiet=False)"
      ],
      "execution_count": 7,
      "outputs": []
    },
    {
      "cell_type": "code",
      "metadata": {
        "id": "Ij7lJbcqXA4a",
        "colab_type": "code",
        "colab": {
          "base_uri": "https://localhost:8080/",
          "height": 425
        },
        "outputId": "53ff16ba-2edf-473d-fe75-43f743ee0042"
      },
      "source": [
        "if not os.path.exists(generatorModelFilePath):\n",
        "    download_file(generatorModelUrl, generatorModelFilePath)\n",
        "\n",
        "if not os.path.exists(discriminatorModelFilePath):\n",
        "    download_file(discriminatorModelUrl, discriminatorModelFilePath)\n",
        "    \n",
        "if not os.path.exists(generatorConfigFilePath):\n",
        "    download_file(generatorConfigUrl, generatorConfigFilePath)\n",
        "\n",
        "if not os.path.exists(discriminatorConfigFilePath):\n",
        "    download_file(discriminatorConfigUrl, discriminatorConfigFilePath)\n",
        "    \n",
        "if not os.path.exists(vocabFilePath):\n",
        "    download_file(vocabUrl, vocabFilePath)"
      ],
      "execution_count": 8,
      "outputs": [
        {
          "output_type": "stream",
          "text": [
            "Permission denied: https://drive.google.com/uc?export=download&confirm=BTQ_&id=1vaB80ioD8MNFB3zE_5AD-QJtNy0389jg\n",
            "Maybe you need to change permission over 'Anyone with the link'?\n",
            "Downloading...\n",
            "From: https://drive.google.com/uc?export=download&confirm=BTQ_&id=1vaB80ioD8MNFB3zE_5AD-QJtNy0389jg\n",
            "To: /content/models/electra/generator/pytorch_model.bin\n",
            "261MB [00:03, 83.5MB/s]\n",
            "Downloading...\n",
            "From: https://drive.google.com/uc?export=download&confirm=BTQ_&id=1xMUwFYs4tgD7qIs7XrrqQ6tKabH7ZyS9\n",
            "To: /content/models/electra/discriminator/pytorch_model.bin\n",
            "1.68GB [00:19, 85.7MB/s]\n",
            "Permission denied: https://drive.google.com/uc?export=download&confirm=BTQ_&id=1SBtS-9_Wy26vZDjXBEos9KuiQc7TChhT\n",
            "Maybe you need to change permission over 'Anyone with the link'?\n",
            "Downloading...\n",
            "From: https://drive.google.com/uc?export=download&confirm=BTQ_&id=1SBtS-9_Wy26vZDjXBEos9KuiQc7TChhT\n",
            "To: /content/models/electra/generator/config.json\n",
            "100%|██████████| 463/463 [00:00<00:00, 541kB/s]\n",
            "Downloading...\n",
            "From: https://drive.google.com/uc?export=download&confirm=BTQ_&id=1jZQLHL4TTMK5eoWL-JhihiVRVoUepC_B\n",
            "To: /content/models/electra/discriminator/config.json\n",
            "100%|██████████| 468/468 [00:00<00:00, 534kB/s]\n",
            "Downloading...\n",
            "From: https://drive.google.com/uc?export=download&confirm=BTQ_&id=1vuAP1zRvN1c6EHoSQMVC2ivZMTpzYR0P\n",
            "To: /content/models/electra/vocab.txt\n",
            "100%|██████████| 81.0/81.0 [00:00<00:00, 27.6kB/s]\n"
          ],
          "name": "stderr"
        }
      ]
    },
    {
      "cell_type": "markdown",
      "metadata": {
        "id": "LI7hIlvvXRox",
        "colab_type": "text"
      },
      "source": [
        "\n",
        "<b>4. Load Electra and generator Models</b>"
      ]
    },
    {
      "cell_type": "code",
      "metadata": {
        "id": "8jKNyeyyXdLh",
        "colab_type": "code",
        "colab": {}
      },
      "source": [
        "electra = ElectraModel.from_pretrained(discriminatorFolderPath)"
      ],
      "execution_count": 9,
      "outputs": []
    },
    {
      "cell_type": "code",
      "metadata": {
        "id": "DYrkBKDIXCXd",
        "colab_type": "code",
        "colab": {}
      },
      "source": [
        "generator = ElectraForMaskedLM.from_pretrained(generatorFolderPath)"
      ],
      "execution_count": 10,
      "outputs": []
    },
    {
      "cell_type": "markdown",
      "metadata": {
        "id": "4YEqregSXpAI",
        "colab_type": "text"
      },
      "source": [
        "<b>5. Load the models into the GPU if avilabile</b>"
      ]
    },
    {
      "cell_type": "code",
      "metadata": {
        "id": "9AuzukrkXh2n",
        "colab_type": "code",
        "colab": {}
      },
      "source": [
        "device = torch.device('cuda:0' if torch.cuda.is_available() else 'cpu')"
      ],
      "execution_count": 11,
      "outputs": []
    },
    {
      "cell_type": "code",
      "metadata": {
        "id": "xZRVZR9lXwEx",
        "colab_type": "code",
        "colab": {}
      },
      "source": [
        "generator = generator.to(device)\n",
        "generator = generator.eval()"
      ],
      "execution_count": 12,
      "outputs": []
    },
    {
      "cell_type": "code",
      "metadata": {
        "id": "GJ5-asiTX49b",
        "colab_type": "code",
        "colab": {}
      },
      "source": [
        "electra = electra.to(device)\n",
        "electra = electra.eval()"
      ],
      "execution_count": 13,
      "outputs": []
    },
    {
      "cell_type": "markdown",
      "metadata": {
        "id": "ajffrI3yX-O5",
        "colab_type": "text"
      },
      "source": [
        "<b>6. Benchmark Configuration</b>"
      ]
    },
    {
      "cell_type": "code",
      "metadata": {
        "id": "c56K4HYUX6Y4",
        "colab_type": "code",
        "colab": {}
      },
      "source": [
        "min_batch_size = 8\n",
        "max_batch_size = 32\n",
        "inc_batch_size = 8\n",
        "\n",
        "min_sequence_length = 64\n",
        "max_sequence_length = 512\n",
        "inc_sequence_length = 64\n",
        "\n",
        "iterations = 10"
      ],
      "execution_count": 14,
      "outputs": []
    },
    {
      "cell_type": "markdown",
      "metadata": {
        "id": "4cePeIxrYFnx",
        "colab_type": "text"
      },
      "source": [
        "<b>7. Start Benchmarking Electra</b>"
      ]
    },
    {
      "cell_type": "code",
      "metadata": {
        "id": "0Pakn8fDYDS-",
        "colab_type": "code",
        "colab": {
          "base_uri": "https://localhost:8080/",
          "height": 748
        },
        "outputId": "64a28b99-6420-40da-ca21-1c0a7e1d42ca"
      },
      "source": [
        "device_name = torch.cuda.get_device_name(device.index) if device.type == 'cuda' else 'CPU'\n",
        "\n",
        "with torch.no_grad():\n",
        "    print((' Benchmarking using ' + device_name + ' ').center(80, '*'))\n",
        "    print(' Start '.center(80, '*'))\n",
        "    for sequence_length in range(min_sequence_length,max_sequence_length+1,inc_sequence_length):\n",
        "        for batch_size in range(min_batch_size,max_batch_size+1,inc_batch_size):\n",
        "            start = time.time()\n",
        "            for i in range(iterations):\n",
        "                input_ids = torch.randint(1, 20, (batch_size,sequence_length)).cuda()\n",
        "                results = electra(input_ids)[0].cpu().numpy()\n",
        "            end = time.time()\n",
        "            ms_per_protein = (end-start)/(iterations*batch_size)\n",
        "            print('Sequence Length: %4d \\t Batch Size: %4d \\t Ms per protein %4.2f' %(sequence_length,batch_size,ms_per_protein))\n",
        "        print(' Done '.center(80, '*'))\n",
        "    print(' Finished '.center(80, '*'))"
      ],
      "execution_count": 15,
      "outputs": [
        {
          "output_type": "stream",
          "text": [
            "******************* Benchmarking using Tesla P100-PCIE-16GB ********************\n",
            "************************************ Start *************************************\n",
            "Sequence Length:   64 \t Batch Size:    8 \t Ms per protein 0.01\n",
            "Sequence Length:   64 \t Batch Size:   16 \t Ms per protein 0.01\n",
            "Sequence Length:   64 \t Batch Size:   24 \t Ms per protein 0.01\n",
            "Sequence Length:   64 \t Batch Size:   32 \t Ms per protein 0.01\n",
            "************************************* Done *************************************\n",
            "Sequence Length:  128 \t Batch Size:    8 \t Ms per protein 0.02\n",
            "Sequence Length:  128 \t Batch Size:   16 \t Ms per protein 0.02\n",
            "Sequence Length:  128 \t Batch Size:   24 \t Ms per protein 0.02\n",
            "Sequence Length:  128 \t Batch Size:   32 \t Ms per protein 0.02\n",
            "************************************* Done *************************************\n",
            "Sequence Length:  192 \t Batch Size:    8 \t Ms per protein 0.02\n",
            "Sequence Length:  192 \t Batch Size:   16 \t Ms per protein 0.02\n",
            "Sequence Length:  192 \t Batch Size:   24 \t Ms per protein 0.02\n",
            "Sequence Length:  192 \t Batch Size:   32 \t Ms per protein 0.02\n",
            "************************************* Done *************************************\n",
            "Sequence Length:  256 \t Batch Size:    8 \t Ms per protein 0.04\n",
            "Sequence Length:  256 \t Batch Size:   16 \t Ms per protein 0.03\n",
            "Sequence Length:  256 \t Batch Size:   24 \t Ms per protein 0.03\n",
            "Sequence Length:  256 \t Batch Size:   32 \t Ms per protein 0.03\n",
            "************************************* Done *************************************\n",
            "Sequence Length:  320 \t Batch Size:    8 \t Ms per protein 0.04\n",
            "Sequence Length:  320 \t Batch Size:   16 \t Ms per protein 0.04\n",
            "Sequence Length:  320 \t Batch Size:   24 \t Ms per protein 0.04\n",
            "Sequence Length:  320 \t Batch Size:   32 \t Ms per protein 0.04\n",
            "************************************* Done *************************************\n",
            "Sequence Length:  384 \t Batch Size:    8 \t Ms per protein 0.05\n",
            "Sequence Length:  384 \t Batch Size:   16 \t Ms per protein 0.05\n",
            "Sequence Length:  384 \t Batch Size:   24 \t Ms per protein 0.05\n",
            "Sequence Length:  384 \t Batch Size:   32 \t Ms per protein 0.05\n",
            "************************************* Done *************************************\n",
            "Sequence Length:  448 \t Batch Size:    8 \t Ms per protein 0.06\n",
            "Sequence Length:  448 \t Batch Size:   16 \t Ms per protein 0.06\n",
            "Sequence Length:  448 \t Batch Size:   24 \t Ms per protein 0.06\n",
            "Sequence Length:  448 \t Batch Size:   32 \t Ms per protein 0.06\n",
            "************************************* Done *************************************\n",
            "Sequence Length:  512 \t Batch Size:    8 \t Ms per protein 0.07\n",
            "Sequence Length:  512 \t Batch Size:   16 \t Ms per protein 0.07\n",
            "Sequence Length:  512 \t Batch Size:   24 \t Ms per protein 0.06\n",
            "Sequence Length:  512 \t Batch Size:   32 \t Ms per protein 0.07\n",
            "************************************* Done *************************************\n",
            "*********************************** Finished ***********************************\n"
          ],
          "name": "stdout"
        }
      ]
    },
    {
      "cell_type": "markdown",
      "metadata": {
        "id": "UM1BAaTHYUcy",
        "colab_type": "text"
      },
      "source": [
        "<b>7. Start Benchmarking Generator</b>"
      ]
    },
    {
      "cell_type": "code",
      "metadata": {
        "id": "pbfopp5RYRrp",
        "colab_type": "code",
        "colab": {
          "base_uri": "https://localhost:8080/",
          "height": 748
        },
        "outputId": "5a64b353-2e60-4592-a278-8b42fc1f5642"
      },
      "source": [
        "device_name = torch.cuda.get_device_name(device.index) if device.type == 'cuda' else 'CPU'\n",
        "\n",
        "with torch.no_grad():\n",
        "    print((' Benchmarking using ' + device_name + ' ').center(80, '*'))\n",
        "    print(' Start '.center(80, '*'))\n",
        "    for sequence_length in range(min_sequence_length,max_sequence_length+1,inc_sequence_length):\n",
        "        for batch_size in range(min_batch_size,max_batch_size+1,inc_batch_size):\n",
        "            start = time.time()\n",
        "            for i in range(iterations):\n",
        "                input_ids = torch.randint(1, 20, (batch_size,sequence_length)).cuda()\n",
        "                results = generator(input_ids)[0].cpu().numpy()\n",
        "            end = time.time()\n",
        "            ms_per_protein = (end-start)/(iterations*batch_size)\n",
        "            print('Sequence Length: %4d \\t Batch Size: %4d \\t Ms per protein %4.2f' %(sequence_length,batch_size,ms_per_protein))\n",
        "        print(' Done '.center(80, '*'))\n",
        "    print(' Finished '.center(80, '*'))"
      ],
      "execution_count": 16,
      "outputs": [
        {
          "output_type": "stream",
          "text": [
            "******************* Benchmarking using Tesla P100-PCIE-16GB ********************\n",
            "************************************ Start *************************************\n",
            "Sequence Length:   64 \t Batch Size:    8 \t Ms per protein 0.00\n",
            "Sequence Length:   64 \t Batch Size:   16 \t Ms per protein 0.00\n",
            "Sequence Length:   64 \t Batch Size:   24 \t Ms per protein 0.00\n",
            "Sequence Length:   64 \t Batch Size:   32 \t Ms per protein 0.00\n",
            "************************************* Done *************************************\n",
            "Sequence Length:  128 \t Batch Size:    8 \t Ms per protein 0.00\n",
            "Sequence Length:  128 \t Batch Size:   16 \t Ms per protein 0.00\n",
            "Sequence Length:  128 \t Batch Size:   24 \t Ms per protein 0.00\n",
            "Sequence Length:  128 \t Batch Size:   32 \t Ms per protein 0.00\n",
            "************************************* Done *************************************\n",
            "Sequence Length:  192 \t Batch Size:    8 \t Ms per protein 0.00\n",
            "Sequence Length:  192 \t Batch Size:   16 \t Ms per protein 0.00\n",
            "Sequence Length:  192 \t Batch Size:   24 \t Ms per protein 0.00\n",
            "Sequence Length:  192 \t Batch Size:   32 \t Ms per protein 0.00\n",
            "************************************* Done *************************************\n",
            "Sequence Length:  256 \t Batch Size:    8 \t Ms per protein 0.00\n",
            "Sequence Length:  256 \t Batch Size:   16 \t Ms per protein 0.00\n",
            "Sequence Length:  256 \t Batch Size:   24 \t Ms per protein 0.00\n",
            "Sequence Length:  256 \t Batch Size:   32 \t Ms per protein 0.00\n",
            "************************************* Done *************************************\n",
            "Sequence Length:  320 \t Batch Size:    8 \t Ms per protein 0.01\n",
            "Sequence Length:  320 \t Batch Size:   16 \t Ms per protein 0.01\n",
            "Sequence Length:  320 \t Batch Size:   24 \t Ms per protein 0.01\n",
            "Sequence Length:  320 \t Batch Size:   32 \t Ms per protein 0.00\n",
            "************************************* Done *************************************\n",
            "Sequence Length:  384 \t Batch Size:    8 \t Ms per protein 0.01\n",
            "Sequence Length:  384 \t Batch Size:   16 \t Ms per protein 0.01\n",
            "Sequence Length:  384 \t Batch Size:   24 \t Ms per protein 0.01\n",
            "Sequence Length:  384 \t Batch Size:   32 \t Ms per protein 0.01\n",
            "************************************* Done *************************************\n",
            "Sequence Length:  448 \t Batch Size:    8 \t Ms per protein 0.01\n",
            "Sequence Length:  448 \t Batch Size:   16 \t Ms per protein 0.01\n",
            "Sequence Length:  448 \t Batch Size:   24 \t Ms per protein 0.01\n",
            "Sequence Length:  448 \t Batch Size:   32 \t Ms per protein 0.01\n",
            "************************************* Done *************************************\n",
            "Sequence Length:  512 \t Batch Size:    8 \t Ms per protein 0.01\n",
            "Sequence Length:  512 \t Batch Size:   16 \t Ms per protein 0.01\n",
            "Sequence Length:  512 \t Batch Size:   24 \t Ms per protein 0.01\n",
            "Sequence Length:  512 \t Batch Size:   32 \t Ms per protein 0.01\n",
            "************************************* Done *************************************\n",
            "*********************************** Finished ***********************************\n"
          ],
          "name": "stdout"
        }
      ]
    }
  ]
}